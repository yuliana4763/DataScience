{
 "cells": [
  {
   "cell_type": "code",
   "execution_count": 1,
   "id": "d76e7e4e",
   "metadata": {},
   "outputs": [
    {
     "name": "stdout",
     "output_type": "stream",
     "text": [
      "Requirement already satisfied: streamlit in c:\\users\\julia\\.conda\\envs\\opencv\\lib\\site-packages (1.27.2)\n",
      "Requirement already satisfied: click<9,>=7.0 in c:\\users\\julia\\.conda\\envs\\opencv\\lib\\site-packages (from streamlit) (8.1.7)\n",
      "Requirement already satisfied: altair<6,>=4.0 in c:\\users\\julia\\.conda\\envs\\opencv\\lib\\site-packages (from streamlit) (5.1.2)\n",
      "Requirement already satisfied: tenacity<9,>=8.1.0 in c:\\users\\julia\\.conda\\envs\\opencv\\lib\\site-packages (from streamlit) (8.2.3)\n",
      "Requirement already satisfied: typing-extensions<5,>=4.3.0 in c:\\users\\julia\\.conda\\envs\\opencv\\lib\\site-packages (from streamlit) (4.5.0)\n",
      "Requirement already satisfied: requests<3,>=2.27 in c:\\users\\julia\\.conda\\envs\\opencv\\lib\\site-packages (from streamlit) (2.31.0)\n",
      "Requirement already satisfied: rich<14,>=10.14.0 in c:\\users\\julia\\.conda\\envs\\opencv\\lib\\site-packages (from streamlit) (13.6.0)\n",
      "Requirement already satisfied: pydeck<1,>=0.8.0b4 in c:\\users\\julia\\.conda\\envs\\opencv\\lib\\site-packages (from streamlit) (0.8.1b0)\n",
      "Requirement already satisfied: validators<1,>=0.2 in c:\\users\\julia\\.conda\\envs\\opencv\\lib\\site-packages (from streamlit) (0.22.0)\n",
      "Requirement already satisfied: toml<2,>=0.10.1 in c:\\users\\julia\\.conda\\envs\\opencv\\lib\\site-packages (from streamlit) (0.10.2)\n",
      "Requirement already satisfied: blinker<2,>=1.0.0 in c:\\users\\julia\\.conda\\envs\\opencv\\lib\\site-packages (from streamlit) (1.6.2)\n",
      "Requirement already satisfied: tzlocal<6,>=1.1 in c:\\users\\julia\\.conda\\envs\\opencv\\lib\\site-packages (from streamlit) (5.1)\n",
      "Requirement already satisfied: tornado<7,>=6.0.3 in c:\\users\\julia\\.conda\\envs\\opencv\\lib\\site-packages (from streamlit) (6.2)\n",
      "Requirement already satisfied: cachetools<6,>=4.0 in c:\\users\\julia\\.conda\\envs\\opencv\\lib\\site-packages (from streamlit) (5.3.1)\n",
      "Requirement already satisfied: importlib-metadata<7,>=1.4 in c:\\users\\julia\\.conda\\envs\\opencv\\lib\\site-packages (from streamlit) (6.8.0)\n",
      "Requirement already satisfied: packaging<24,>=16.8 in c:\\users\\julia\\.conda\\envs\\opencv\\lib\\site-packages (from streamlit) (23.0)\n",
      "Requirement already satisfied: pandas<3,>=1.3.0 in c:\\users\\julia\\.conda\\envs\\opencv\\lib\\site-packages (from streamlit) (2.1.0)\n",
      "Requirement already satisfied: gitpython!=3.1.19,<4,>=3.0.7 in c:\\users\\julia\\.conda\\envs\\opencv\\lib\\site-packages (from streamlit) (3.1.37)\n",
      "Requirement already satisfied: numpy<2,>=1.19.3 in c:\\users\\julia\\.conda\\envs\\opencv\\lib\\site-packages (from streamlit) (1.25.0)\n",
      "Requirement already satisfied: pyarrow>=6.0 in c:\\users\\julia\\.conda\\envs\\opencv\\lib\\site-packages (from streamlit) (13.0.0)\n",
      "Requirement already satisfied: protobuf<5,>=3.20 in c:\\users\\julia\\.conda\\envs\\opencv\\lib\\site-packages (from streamlit) (4.24.4)\n",
      "Requirement already satisfied: python-dateutil<3,>=2.7.3 in c:\\users\\julia\\.conda\\envs\\opencv\\lib\\site-packages (from streamlit) (2.8.2)\n",
      "Requirement already satisfied: pillow<11,>=7.1.0 in c:\\users\\julia\\.conda\\envs\\opencv\\lib\\site-packages (from streamlit) (10.0.0)\n",
      "Requirement already satisfied: watchdog>=2.1.5 in c:\\users\\julia\\.conda\\envs\\opencv\\lib\\site-packages (from streamlit) (3.0.0)\n",
      "Requirement already satisfied: jsonschema>=3.0 in c:\\users\\julia\\.conda\\envs\\opencv\\lib\\site-packages (from altair<6,>=4.0->streamlit) (4.17.3)\n",
      "Requirement already satisfied: jinja2 in c:\\users\\julia\\.conda\\envs\\opencv\\lib\\site-packages (from altair<6,>=4.0->streamlit) (3.1.2)\n",
      "Requirement already satisfied: toolz in c:\\users\\julia\\.conda\\envs\\opencv\\lib\\site-packages (from altair<6,>=4.0->streamlit) (0.12.0)\n",
      "Requirement already satisfied: colorama in c:\\users\\julia\\.conda\\envs\\opencv\\lib\\site-packages (from click<9,>=7.0->streamlit) (0.4.6)\n",
      "Requirement already satisfied: gitdb<5,>=4.0.1 in c:\\users\\julia\\.conda\\envs\\opencv\\lib\\site-packages (from gitpython!=3.1.19,<4,>=3.0.7->streamlit) (4.0.10)\n",
      "Requirement already satisfied: zipp>=0.5 in c:\\users\\julia\\.conda\\envs\\opencv\\lib\\site-packages (from importlib-metadata<7,>=1.4->streamlit) (3.17.0)\n",
      "Requirement already satisfied: pytz>=2020.1 in c:\\users\\julia\\.conda\\envs\\opencv\\lib\\site-packages (from pandas<3,>=1.3.0->streamlit) (2023.3.post1)\n",
      "Requirement already satisfied: tzdata>=2022.1 in c:\\users\\julia\\.conda\\envs\\opencv\\lib\\site-packages (from pandas<3,>=1.3.0->streamlit) (2023.3)\n",
      "Requirement already satisfied: six>=1.5 in c:\\users\\julia\\.conda\\envs\\opencv\\lib\\site-packages (from python-dateutil<3,>=2.7.3->streamlit) (1.16.0)\n",
      "Requirement already satisfied: idna<4,>=2.5 in c:\\users\\julia\\.conda\\envs\\opencv\\lib\\site-packages (from requests<3,>=2.27->streamlit) (3.4)\n",
      "Requirement already satisfied: certifi>=2017.4.17 in c:\\users\\julia\\.conda\\envs\\opencv\\lib\\site-packages (from requests<3,>=2.27->streamlit) (2023.7.22)\n",
      "Requirement already satisfied: urllib3<3,>=1.21.1 in c:\\users\\julia\\.conda\\envs\\opencv\\lib\\site-packages (from requests<3,>=2.27->streamlit) (2.0.6)\n",
      "Requirement already satisfied: charset-normalizer<4,>=2 in c:\\users\\julia\\.conda\\envs\\opencv\\lib\\site-packages (from requests<3,>=2.27->streamlit) (3.3.0)\n",
      "Requirement already satisfied: markdown-it-py>=2.2.0 in c:\\users\\julia\\.conda\\envs\\opencv\\lib\\site-packages (from rich<14,>=10.14.0->streamlit) (3.0.0)\n",
      "Requirement already satisfied: pygments<3.0.0,>=2.13.0 in c:\\users\\julia\\.conda\\envs\\opencv\\lib\\site-packages (from rich<14,>=10.14.0->streamlit) (2.16.1)\n",
      "Requirement already satisfied: smmap<6,>=3.0.1 in c:\\users\\julia\\.conda\\envs\\opencv\\lib\\site-packages (from gitdb<5,>=4.0.1->gitpython!=3.1.19,<4,>=3.0.7->streamlit) (5.0.1)\n",
      "Requirement already satisfied: MarkupSafe>=2.0 in c:\\users\\julia\\.conda\\envs\\opencv\\lib\\site-packages (from jinja2->altair<6,>=4.0->streamlit) (2.1.1)\n",
      "Requirement already satisfied: pyrsistent!=0.17.0,!=0.17.1,!=0.17.2,>=0.14.0 in c:\\users\\julia\\.conda\\envs\\opencv\\lib\\site-packages (from jsonschema>=3.0->altair<6,>=4.0->streamlit) (0.18.0)\n",
      "Requirement already satisfied: attrs>=17.4.0 in c:\\users\\julia\\.conda\\envs\\opencv\\lib\\site-packages (from jsonschema>=3.0->altair<6,>=4.0->streamlit) (22.1.0)\n",
      "Requirement already satisfied: mdurl~=0.1 in c:\\users\\julia\\.conda\\envs\\opencv\\lib\\site-packages (from markdown-it-py>=2.2.0->rich<14,>=10.14.0->streamlit) (0.1.2)\n",
      "Note: you may need to restart the kernel to use updated packages.\n"
     ]
    }
   ],
   "source": [
    "pip install streamlit"
   ]
  },
  {
   "cell_type": "code",
   "execution_count": 2,
   "id": "da8d0a68",
   "metadata": {},
   "outputs": [],
   "source": [
    "# app.py\n",
    "\n",
    "import streamlit as st\n",
    "import joblib\n",
    "import pandas as pd"
   ]
  },
  {
   "cell_type": "code",
   "execution_count": 3,
   "id": "ff4c9d28",
   "metadata": {},
   "outputs": [],
   "source": [
    "# Muat model yang sudah disimpan\n",
    "model = joblib.load('model_prediction_fundraising.pkl')"
   ]
  },
  {
   "cell_type": "code",
   "execution_count": 4,
   "id": "b4264aa5",
   "metadata": {},
   "outputs": [],
   "source": [
    "# Fungsi untuk membuat prediksi berdasarkan input pengguna\n",
    "def predict_fundraising(umur, gender, nominal, periode_transaksi, kategori_nominal):\n",
    "    prediction = model.predict(umur, gender, nominal, periode_transaksi, kategori_nominal)\n",
    "    return prediction"
   ]
  },
  {
   "cell_type": "code",
   "execution_count": 5,
   "id": "9118abcf",
   "metadata": {},
   "outputs": [
    {
     "name": "stderr",
     "output_type": "stream",
     "text": [
      "2023-10-17 14:01:59.778 \n",
      "  \u001b[33m\u001b[1mWarning:\u001b[0m to view this Streamlit app on a browser, run it with the following\n",
      "  command:\n",
      "\n",
      "    streamlit run C:\\Users\\Julia\\.conda\\envs\\OpenCV\\lib\\site-packages\\ipykernel_launcher.py [ARGUMENTS]\n"
     ]
    },
    {
     "data": {
      "text/plain": [
       "DeltaGenerator()"
      ]
     },
     "execution_count": 5,
     "metadata": {},
     "output_type": "execute_result"
    }
   ],
   "source": [
    "# Tampilan judul aplikasi\n",
    "st.title('Aplikasi Prediksi Fundraising Digital BAZNAS RI')"
   ]
  },
  {
   "cell_type": "code",
   "execution_count": 6,
   "id": "a2ed86d9",
   "metadata": {},
   "outputs": [
    {
     "data": {
      "text/plain": [
       "DeltaGenerator(_root_container=1, _parent=DeltaGenerator())"
      ]
     },
     "execution_count": 6,
     "metadata": {},
     "output_type": "execute_result"
    }
   ],
   "source": [
    "# Sidebar dengan input pengguna\n",
    "st.sidebar.header('Input Pengguna')"
   ]
  },
  {
   "cell_type": "code",
   "execution_count": 7,
   "id": "78beed96",
   "metadata": {},
   "outputs": [],
   "source": [
    "# Kolom input untuk fitur-fitur fundraising\n",
    "input_features = {}\n",
    "input_features['Umur'] = st.sidebar.number_input('Umur', value=100)\n",
    "input_features['Gender'] = st.sidebar.number_input('Gender', value=1000)\n",
    "input_features['Nominal'] = st.sidebar.number_input('Nominal', value=500)\n",
    "input_features['Periode Transaksi'] = st.sidebar.number_input('Periode Transaksi', value=50)\n",
    "input_features['Kategori Nominal'] = st.sidebar.number_input('Kategori Nominal', value=50)\n",
    "\n",
    "# Tombol untuk membuat prediksi\n",
    "if st.sidebar.button('Prediksi'):\n",
    "    input_data = pd.DataFrame([input_features])\n",
    "    prediction = predict_fundraising(input_data)\n",
    "    st.sidebar.text('Hasil Prediksi:')\n",
    "    st.sidebar.write(f'Jumlah Fundraising yang Diperkirakan: ${prediction[0]:,.2f}')"
   ]
  },
  {
   "cell_type": "code",
   "execution_count": 8,
   "id": "f5f4eb8d",
   "metadata": {},
   "outputs": [],
   "source": [
    "# Tampilkan informasi tambahan tentang aplikasi\n",
    "st.write('Aplikasi ini memungkinkan Anda untuk memprediksi jumlah fundraising digital berdasarkan input yang Anda berikan.')\n",
    "\n",
    "# Tampilkan informasi tentang model\n",
    "st.write('Model yang digunakan dalam aplikasi ini adalah model yang telah di-train sebelumnya menggunakan data muzaki.')\n",
    "\n",
    "# Tampilkan kontak informasi\n",
    "st.write('Hubungi kami di yuliana111099@gmail.com untuk informasi lebih lanjut.')"
   ]
  }
 ],
 "metadata": {
  "kernelspec": {
   "display_name": "Python 3 (ipykernel)",
   "language": "python",
   "name": "python3"
  },
  "language_info": {
   "codemirror_mode": {
    "name": "ipython",
    "version": 3
   },
   "file_extension": ".py",
   "mimetype": "text/x-python",
   "name": "python",
   "nbconvert_exporter": "python",
   "pygments_lexer": "ipython3",
   "version": "3.10.11"
  }
 },
 "nbformat": 4,
 "nbformat_minor": 5
}
