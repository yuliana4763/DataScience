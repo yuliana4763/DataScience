{
 "cells": [
  {
   "cell_type": "markdown",
   "id": "14c7ec89",
   "metadata": {},
   "source": [
    "# Load Data Preparation"
   ]
  },
  {
   "cell_type": "code",
   "execution_count": 1,
   "id": "61ca618a",
   "metadata": {},
   "outputs": [
    {
     "name": "stdout",
     "output_type": "stream",
     "text": [
      "Requirement already satisfied: pandas in c:\\users\\julia\\.conda\\envs\\opencv\\lib\\site-packages (2.1.0)\n",
      "Requirement already satisfied: tzdata>=2022.1 in c:\\users\\julia\\.conda\\envs\\opencv\\lib\\site-packages (from pandas) (2023.3)\n",
      "Requirement already satisfied: pytz>=2020.1 in c:\\users\\julia\\.conda\\envs\\opencv\\lib\\site-packages (from pandas) (2023.3.post1)\n",
      "Requirement already satisfied: numpy>=1.22.4 in c:\\users\\julia\\.conda\\envs\\opencv\\lib\\site-packages (from pandas) (1.25.0)\n",
      "Requirement already satisfied: python-dateutil>=2.8.2 in c:\\users\\julia\\.conda\\envs\\opencv\\lib\\site-packages (from pandas) (2.8.2)\n",
      "Requirement already satisfied: six>=1.5 in c:\\users\\julia\\.conda\\envs\\opencv\\lib\\site-packages (from python-dateutil>=2.8.2->pandas) (1.16.0)\n",
      "Note: you may need to restart the kernel to use updated packages.\n"
     ]
    }
   ],
   "source": [
    "pip install pandas"
   ]
  },
  {
   "cell_type": "code",
   "execution_count": 2,
   "id": "74a0f71c",
   "metadata": {},
   "outputs": [
    {
     "name": "stdout",
     "output_type": "stream",
     "text": [
      "Requirement already satisfied: seaborn in c:\\users\\julia\\.conda\\envs\\opencv\\lib\\site-packages (0.12.2)Note: you may need to restart the kernel to use updated packages.\n",
      "\n",
      "Requirement already satisfied: numpy!=1.24.0,>=1.17 in c:\\users\\julia\\.conda\\envs\\opencv\\lib\\site-packages (from seaborn) (1.25.0)\n",
      "Requirement already satisfied: pandas>=0.25 in c:\\users\\julia\\.conda\\envs\\opencv\\lib\\site-packages (from seaborn) (2.1.0)\n",
      "Requirement already satisfied: matplotlib!=3.6.1,>=3.1 in c:\\users\\julia\\.conda\\envs\\opencv\\lib\\site-packages (from seaborn) (3.7.3)\n",
      "Requirement already satisfied: contourpy>=1.0.1 in c:\\users\\julia\\.conda\\envs\\opencv\\lib\\site-packages (from matplotlib!=3.6.1,>=3.1->seaborn) (1.1.0)\n",
      "Requirement already satisfied: packaging>=20.0 in c:\\users\\julia\\.conda\\envs\\opencv\\lib\\site-packages (from matplotlib!=3.6.1,>=3.1->seaborn) (23.0)\n",
      "Requirement already satisfied: cycler>=0.10 in c:\\users\\julia\\.conda\\envs\\opencv\\lib\\site-packages (from matplotlib!=3.6.1,>=3.1->seaborn) (0.11.0)\n",
      "Requirement already satisfied: kiwisolver>=1.0.1 in c:\\users\\julia\\.conda\\envs\\opencv\\lib\\site-packages (from matplotlib!=3.6.1,>=3.1->seaborn) (1.4.5)\n",
      "Requirement already satisfied: pyparsing>=2.3.1 in c:\\users\\julia\\.conda\\envs\\opencv\\lib\\site-packages (from matplotlib!=3.6.1,>=3.1->seaborn) (3.1.1)\n",
      "Requirement already satisfied: python-dateutil>=2.7 in c:\\users\\julia\\.conda\\envs\\opencv\\lib\\site-packages (from matplotlib!=3.6.1,>=3.1->seaborn) (2.8.2)\n",
      "Requirement already satisfied: pillow>=6.2.0 in c:\\users\\julia\\.conda\\envs\\opencv\\lib\\site-packages (from matplotlib!=3.6.1,>=3.1->seaborn) (10.0.0)\n",
      "Requirement already satisfied: fonttools>=4.22.0 in c:\\users\\julia\\.conda\\envs\\opencv\\lib\\site-packages (from matplotlib!=3.6.1,>=3.1->seaborn) (4.42.1)\n",
      "Requirement already satisfied: tzdata>=2022.1 in c:\\users\\julia\\.conda\\envs\\opencv\\lib\\site-packages (from pandas>=0.25->seaborn) (2023.3)\n",
      "Requirement already satisfied: pytz>=2020.1 in c:\\users\\julia\\.conda\\envs\\opencv\\lib\\site-packages (from pandas>=0.25->seaborn) (2023.3.post1)\n",
      "Requirement already satisfied: six>=1.5 in c:\\users\\julia\\.conda\\envs\\opencv\\lib\\site-packages (from python-dateutil>=2.7->matplotlib!=3.6.1,>=3.1->seaborn) (1.16.0)\n"
     ]
    }
   ],
   "source": [
    "pip install seaborn"
   ]
  },
  {
   "cell_type": "code",
   "execution_count": 3,
   "id": "1db2b74c",
   "metadata": {},
   "outputs": [],
   "source": [
    "import pandas as pd\n",
    "import numpy as np\n",
    "import seaborn as sns\n",
    "import matplotlib.pyplot as plt\n",
    "import math"
   ]
  },
  {
   "cell_type": "code",
   "execution_count": 4,
   "id": "b41330b4",
   "metadata": {},
   "outputs": [
    {
     "data": {
      "text/html": [
       "<div>\n",
       "<style scoped>\n",
       "    .dataframe tbody tr th:only-of-type {\n",
       "        vertical-align: middle;\n",
       "    }\n",
       "\n",
       "    .dataframe tbody tr th {\n",
       "        vertical-align: top;\n",
       "    }\n",
       "\n",
       "    .dataframe thead th {\n",
       "        text-align: right;\n",
       "    }\n",
       "</style>\n",
       "<table border=\"1\" class=\"dataframe\">\n",
       "  <thead>\n",
       "    <tr style=\"text-align: right;\">\n",
       "      <th></th>\n",
       "      <th>npwz</th>\n",
       "      <th>tanggal_transaksi</th>\n",
       "      <th>umur</th>\n",
       "      <th>gender</th>\n",
       "      <th>occupation</th>\n",
       "      <th>name</th>\n",
       "      <th>nominal</th>\n",
       "      <th>periode_transaksi</th>\n",
       "    </tr>\n",
       "  </thead>\n",
       "  <tbody>\n",
       "    <tr>\n",
       "      <th>0</th>\n",
       "      <td>317110010025286</td>\n",
       "      <td>2022-12-23</td>\n",
       "      <td>62</td>\n",
       "      <td>wanita</td>\n",
       "      <td>NIA. 01050001</td>\n",
       "      <td>Dyah Rudati Andayani</td>\n",
       "      <td>800000</td>\n",
       "      <td>Reguler</td>\n",
       "    </tr>\n",
       "    <tr>\n",
       "      <th>1</th>\n",
       "      <td>317110010022739</td>\n",
       "      <td>2022-12-23</td>\n",
       "      <td>4</td>\n",
       "      <td>wanita</td>\n",
       "      <td>NIA. 13030039</td>\n",
       "      <td>Dwi Retno Damayanti</td>\n",
       "      <td>375000</td>\n",
       "      <td>Reguler</td>\n",
       "    </tr>\n",
       "    <tr>\n",
       "      <th>2</th>\n",
       "      <td>317110010003044</td>\n",
       "      <td>2022-12-23</td>\n",
       "      <td>72</td>\n",
       "      <td>pria</td>\n",
       "      <td>Ketua Dewan Pengawas Syariah PT PNM</td>\n",
       "      <td>Prof. Dr. KH. Didin Hafidhuddin</td>\n",
       "      <td>5000000</td>\n",
       "      <td>Reguler</td>\n",
       "    </tr>\n",
       "    <tr>\n",
       "      <th>3</th>\n",
       "      <td>317110010046945</td>\n",
       "      <td>2022-12-23</td>\n",
       "      <td>80</td>\n",
       "      <td>pria</td>\n",
       "      <td>NIA. A15080002</td>\n",
       "      <td>Zainulbahar Noor</td>\n",
       "      <td>1237500</td>\n",
       "      <td>Reguler</td>\n",
       "    </tr>\n",
       "    <tr>\n",
       "      <th>4</th>\n",
       "      <td>317110010025286</td>\n",
       "      <td>2022-12-27</td>\n",
       "      <td>62</td>\n",
       "      <td>wanita</td>\n",
       "      <td>NIA. 01050001</td>\n",
       "      <td>Dyah Rudati Andayani</td>\n",
       "      <td>800000</td>\n",
       "      <td>Reguler</td>\n",
       "    </tr>\n",
       "  </tbody>\n",
       "</table>\n",
       "</div>"
      ],
      "text/plain": [
       "              npwz tanggal_transaksi  umur  gender  \\\n",
       "0  317110010025286        2022-12-23    62  wanita   \n",
       "1  317110010022739        2022-12-23     4  wanita   \n",
       "2  317110010003044        2022-12-23    72    pria   \n",
       "3  317110010046945        2022-12-23    80    pria   \n",
       "4  317110010025286        2022-12-27    62  wanita   \n",
       "\n",
       "                            occupation                             name  \\\n",
       "0                        NIA. 01050001             Dyah Rudati Andayani   \n",
       "1                        NIA. 13030039              Dwi Retno Damayanti   \n",
       "2  Ketua Dewan Pengawas Syariah PT PNM  Prof. Dr. KH. Didin Hafidhuddin   \n",
       "3                       NIA. A15080002                 Zainulbahar Noor   \n",
       "4                        NIA. 01050001             Dyah Rudati Andayani   \n",
       "\n",
       "   nominal periode_transaksi  \n",
       "0   800000           Reguler  \n",
       "1   375000           Reguler  \n",
       "2  5000000           Reguler  \n",
       "3  1237500           Reguler  \n",
       "4   800000           Reguler  "
      ]
     },
     "execution_count": 4,
     "metadata": {},
     "output_type": "execute_result"
    }
   ],
   "source": [
    "df = pd.read_csv(\"dataset muzakki.csv\")\n",
    "df.head()"
   ]
  },
  {
   "cell_type": "markdown",
   "id": "9639f57f",
   "metadata": {},
   "source": [
    "# Data Understanding"
   ]
  },
  {
   "cell_type": "markdown",
   "id": "702ba61c",
   "metadata": {},
   "source": [
    "Exploratory Data Analysis (EDA)"
   ]
  },
  {
   "cell_type": "code",
   "execution_count": 5,
   "id": "a87b0bb5",
   "metadata": {},
   "outputs": [
    {
     "name": "stdout",
     "output_type": "stream",
     "text": [
      "<class 'pandas.core.frame.DataFrame'>\n",
      "RangeIndex: 8153 entries, 0 to 8152\n",
      "Data columns (total 8 columns):\n",
      " #   Column             Non-Null Count  Dtype \n",
      "---  ------             --------------  ----- \n",
      " 0   npwz               8153 non-null   int64 \n",
      " 1   tanggal_transaksi  8153 non-null   object\n",
      " 2   umur               8153 non-null   int64 \n",
      " 3   gender             8153 non-null   object\n",
      " 4   occupation         8153 non-null   object\n",
      " 5   name               8153 non-null   object\n",
      " 6   nominal            8153 non-null   int64 \n",
      " 7   periode_transaksi  8153 non-null   object\n",
      "dtypes: int64(3), object(5)\n",
      "memory usage: 509.7+ KB\n"
     ]
    }
   ],
   "source": [
    "#Deskripsi Data\n",
    "\n",
    "df.info()"
   ]
  },
  {
   "cell_type": "code",
   "execution_count": 6,
   "id": "2dc40edd",
   "metadata": {},
   "outputs": [
    {
     "data": {
      "text/plain": [
       "npwz                 0\n",
       "tanggal_transaksi    0\n",
       "umur                 0\n",
       "gender               0\n",
       "occupation           0\n",
       "name                 0\n",
       "nominal              0\n",
       "periode_transaksi    0\n",
       "dtype: int64"
      ]
     },
     "execution_count": 6,
     "metadata": {},
     "output_type": "execute_result"
    }
   ],
   "source": [
    "#Kualitas Data\n",
    "\n",
    "df.isnull().sum()"
   ]
  },
  {
   "cell_type": "code",
   "execution_count": 7,
   "id": "706ef6e1",
   "metadata": {},
   "outputs": [
    {
     "data": {
      "text/html": [
       "<div>\n",
       "<style scoped>\n",
       "    .dataframe tbody tr th:only-of-type {\n",
       "        vertical-align: middle;\n",
       "    }\n",
       "\n",
       "    .dataframe tbody tr th {\n",
       "        vertical-align: top;\n",
       "    }\n",
       "\n",
       "    .dataframe thead th {\n",
       "        text-align: right;\n",
       "    }\n",
       "</style>\n",
       "<table border=\"1\" class=\"dataframe\">\n",
       "  <thead>\n",
       "    <tr style=\"text-align: right;\">\n",
       "      <th></th>\n",
       "      <th>npwz</th>\n",
       "      <th>umur</th>\n",
       "      <th>nominal</th>\n",
       "    </tr>\n",
       "  </thead>\n",
       "  <tbody>\n",
       "    <tr>\n",
       "      <th>count</th>\n",
       "      <td>8.153000e+03</td>\n",
       "      <td>8153.000000</td>\n",
       "      <td>8.153000e+03</td>\n",
       "    </tr>\n",
       "    <tr>\n",
       "      <th>mean</th>\n",
       "      <td>3.171100e+14</td>\n",
       "      <td>40.310928</td>\n",
       "      <td>1.270275e+06</td>\n",
       "    </tr>\n",
       "    <tr>\n",
       "      <th>std</th>\n",
       "      <td>1.473195e+05</td>\n",
       "      <td>21.462278</td>\n",
       "      <td>7.929426e+06</td>\n",
       "    </tr>\n",
       "    <tr>\n",
       "      <th>min</th>\n",
       "      <td>3.171100e+14</td>\n",
       "      <td>4.000000</td>\n",
       "      <td>1.000000e+00</td>\n",
       "    </tr>\n",
       "    <tr>\n",
       "      <th>25%</th>\n",
       "      <td>3.171100e+14</td>\n",
       "      <td>33.000000</td>\n",
       "      <td>1.719800e+05</td>\n",
       "    </tr>\n",
       "    <tr>\n",
       "      <th>50%</th>\n",
       "      <td>3.171100e+14</td>\n",
       "      <td>39.000000</td>\n",
       "      <td>3.127840e+05</td>\n",
       "    </tr>\n",
       "    <tr>\n",
       "      <th>75%</th>\n",
       "      <td>3.171100e+14</td>\n",
       "      <td>45.000000</td>\n",
       "      <td>6.608210e+05</td>\n",
       "    </tr>\n",
       "    <tr>\n",
       "      <th>max</th>\n",
       "      <td>3.171100e+14</td>\n",
       "      <td>1031.000000</td>\n",
       "      <td>4.500000e+08</td>\n",
       "    </tr>\n",
       "  </tbody>\n",
       "</table>\n",
       "</div>"
      ],
      "text/plain": [
       "               npwz         umur       nominal\n",
       "count  8.153000e+03  8153.000000  8.153000e+03\n",
       "mean   3.171100e+14    40.310928  1.270275e+06\n",
       "std    1.473195e+05    21.462278  7.929426e+06\n",
       "min    3.171100e+14     4.000000  1.000000e+00\n",
       "25%    3.171100e+14    33.000000  1.719800e+05\n",
       "50%    3.171100e+14    39.000000  3.127840e+05\n",
       "75%    3.171100e+14    45.000000  6.608210e+05\n",
       "max    3.171100e+14  1031.000000  4.500000e+08"
      ]
     },
     "execution_count": 7,
     "metadata": {},
     "output_type": "execute_result"
    }
   ],
   "source": [
    "df.describe()"
   ]
  },
  {
   "cell_type": "code",
   "execution_count": 8,
   "id": "977f3128",
   "metadata": {},
   "outputs": [],
   "source": [
    "for i in range(len(df)):\n",
    "   if df.loc[i, \"umur\"] > 80:\n",
    "         df.loc[i, \"umur\"] = np.random.randint(18, 80)"
   ]
  },
  {
   "cell_type": "markdown",
   "id": "009d8bd5",
   "metadata": {},
   "source": [
    "Visualisasi dan Segmentasi Data"
   ]
  },
  {
   "cell_type": "code",
   "execution_count": 9,
   "id": "b12fe673",
   "metadata": {},
   "outputs": [
    {
     "name": "stderr",
     "output_type": "stream",
     "text": [
      "C:\\Users\\Julia\\.conda\\envs\\OpenCV\\lib\\site-packages\\seaborn\\_oldcore.py:1498: FutureWarning: is_categorical_dtype is deprecated and will be removed in a future version. Use isinstance(dtype, CategoricalDtype) instead\n",
      "  if pd.api.types.is_categorical_dtype(vector):\n",
      "C:\\Users\\Julia\\.conda\\envs\\OpenCV\\lib\\site-packages\\seaborn\\_oldcore.py:1498: FutureWarning: is_categorical_dtype is deprecated and will be removed in a future version. Use isinstance(dtype, CategoricalDtype) instead\n",
      "  if pd.api.types.is_categorical_dtype(vector):\n",
      "C:\\Users\\Julia\\.conda\\envs\\OpenCV\\lib\\site-packages\\seaborn\\_oldcore.py:1498: FutureWarning: is_categorical_dtype is deprecated and will be removed in a future version. Use isinstance(dtype, CategoricalDtype) instead\n",
      "  if pd.api.types.is_categorical_dtype(vector):\n"
     ]
    },
    {
     "data": {
      "image/png": "[encoded data removed]",
      "text/plain": [
       "<Figure size 640x480 with 1 Axes>"
      ]
     },
     "metadata": {},
     "output_type": "display_data"
    }
   ],
   "source": [
    "# Visualisasi distribusi gender\n",
    "sns.countplot(x='gender', data=df)\n",
    "plt.title('Distribusi Gender')\n",
    "plt.show()"
   ]
  },
  {
   "cell_type": "code",
   "execution_count": 10,
   "id": "934bf5c2",
   "metadata": {},
   "outputs": [
    {
     "name": "stderr",
     "output_type": "stream",
     "text": [
      "C:\\Users\\Julia\\.conda\\envs\\OpenCV\\lib\\site-packages\\seaborn\\_oldcore.py:1498: FutureWarning: is_categorical_dtype is deprecated and will be removed in a future version. Use isinstance(dtype, CategoricalDtype) instead\n",
      "  if pd.api.types.is_categorical_dtype(vector):\n",
      "C:\\Users\\Julia\\.conda\\envs\\OpenCV\\lib\\site-packages\\seaborn\\_oldcore.py:1119: FutureWarning: use_inf_as_na option is deprecated and will be removed in a future version. Convert inf values to NaN before operating instead.\n",
      "  with pd.option_context('mode.use_inf_as_na', True):\n"
     ]
    },
    {
     "data": {
      "image/png": "[encoded data removed]",
      "text/plain": [
       "<Figure size 500x200 with 1 Axes>"
      ]
     },
     "metadata": {},
     "output_type": "display_data"
    }
   ],
   "source": [
    "# Visualisasi distribusi umur\n",
    "plt.figure(figsize=(5, 2))\n",
    "sns.histplot(df['umur'], bins=10, kde=True)\n",
    "plt.title('Distribusi Umur')\n",
    "plt.xlabel('Umur')\n",
    "plt.ylabel('Jumlah')\n",
    "plt.show()"
   ]
  },
  {
   "cell_type": "markdown",
   "id": "dfc66319",
   "metadata": {},
   "source": [
    "# Data Preparation"
   ]
  },
  {
   "cell_type": "markdown",
   "id": "ac10f5e2",
   "metadata": {},
   "source": [
    "### Data cleaning"
   ]
  },
  {
   "cell_type": "code",
   "execution_count": 11,
   "id": "4e465ae9",
   "metadata": {},
   "outputs": [],
   "source": [
    "#Data Cleaning\n",
    "\n",
    "kolom_yang_dihapus = ['occupation', 'npwz', 'name', 'tanggal_transaksi']\n",
    "df = df.drop(columns=kolom_yang_dihapus)"
   ]
  },
  {
   "cell_type": "code",
   "execution_count": 12,
   "id": "50668506",
   "metadata": {},
   "outputs": [
    {
     "name": "stdout",
     "output_type": "stream",
     "text": [
      "\n",
      "Data setelah penghapusan kolom:\n",
      "      umur  gender  nominal periode_transaksi\n",
      "0       62  wanita   800000           Reguler\n",
      "1        4  wanita   375000           Reguler\n",
      "2       72    pria  5000000           Reguler\n",
      "3       80    pria  1237500           Reguler\n",
      "4       62  wanita   800000           Reguler\n",
      "...    ...     ...      ...               ...\n",
      "8148    69    pria   100000            Kurban\n",
      "8149    69    pria  2500000            Kurban\n",
      "8150    69    pria   475000            Kurban\n",
      "8151    69    pria   500000            Kurban\n",
      "8152    69    pria   475000           Reguler\n",
      "\n",
      "[8153 rows x 4 columns]\n"
     ]
    }
   ],
   "source": [
    "# Menampilkan data setelah penghapusan kolom\n",
    "print(\"\\nData setelah penghapusan kolom:\")\n",
    "print(df)"
   ]
  },
  {
   "cell_type": "code",
   "execution_count": 13,
   "id": "222e9c51",
   "metadata": {},
   "outputs": [],
   "source": [
    "# Menyimpan data yang sudah dihapus kolomnya ke dalam file CSV baru\n",
    "df.to_csv(\"data_setelah_penghapusan_kolom.csv\", index=False)"
   ]
  },
  {
   "cell_type": "code",
   "execution_count": 14,
   "id": "2c6f19f1",
   "metadata": {},
   "outputs": [
    {
     "name": "stdout",
     "output_type": "stream",
     "text": [
      "<class 'pandas.core.frame.DataFrame'>\n",
      "RangeIndex: 8153 entries, 0 to 8152\n",
      "Data columns (total 4 columns):\n",
      " #   Column             Non-Null Count  Dtype \n",
      "---  ------             --------------  ----- \n",
      " 0   umur               8153 non-null   int64 \n",
      " 1   gender             8153 non-null   object\n",
      " 2   nominal            8153 non-null   int64 \n",
      " 3   periode_transaksi  8153 non-null   object\n",
      "dtypes: int64(2), object(2)\n",
      "memory usage: 254.9+ KB\n"
     ]
    }
   ],
   "source": [
    "df.info()"
   ]
  },
  {
   "cell_type": "markdown",
   "id": "c7dfc332",
   "metadata": {},
   "source": [
    "### Data Transformation"
   ]
  },
  {
   "cell_type": "code",
   "execution_count": 15,
   "id": "c07aa169",
   "metadata": {},
   "outputs": [
    {
     "name": "stdout",
     "output_type": "stream",
     "text": [
      "      umur  gender  nominal periode_transaksi\n",
      "0       62  wanita   800000           Reguler\n",
      "1        4  wanita   375000           Reguler\n",
      "2       72    pria  5000000           Reguler\n",
      "3       80    pria  1237500           Reguler\n",
      "4       62  wanita   800000           Reguler\n",
      "...    ...     ...      ...               ...\n",
      "8148    69    pria   100000            Kurban\n",
      "8149    69    pria  2500000            Kurban\n",
      "8150    69    pria   475000            Kurban\n",
      "8151    69    pria   500000            Kurban\n",
      "8152    69    pria   475000           Reguler\n",
      "\n",
      "[8153 rows x 4 columns]\n"
     ]
    }
   ],
   "source": [
    "from sklearn.preprocessing import OneHotEncoder\n",
    "df = pd.read_csv('data_setelah_penghapusan_kolom.csv') \n",
    "print(df)"
   ]
  },
  {
   "cell_type": "code",
   "execution_count": 16,
   "id": "eb1c323c",
   "metadata": {},
   "outputs": [
    {
     "name": "stdout",
     "output_type": "stream",
     "text": [
      "<class 'pandas.core.frame.DataFrame'>\n",
      "RangeIndex: 8153 entries, 0 to 8152\n",
      "Data columns (total 4 columns):\n",
      " #   Column             Non-Null Count  Dtype \n",
      "---  ------             --------------  ----- \n",
      " 0   umur               8153 non-null   int64 \n",
      " 1   gender             8153 non-null   object\n",
      " 2   nominal            8153 non-null   int64 \n",
      " 3   periode_transaksi  8153 non-null   object\n",
      "dtypes: int64(2), object(2)\n",
      "memory usage: 254.9+ KB\n"
     ]
    }
   ],
   "source": [
    "df.info()"
   ]
  },
  {
   "cell_type": "code",
   "execution_count": 17,
   "id": "4cf8168f",
   "metadata": {},
   "outputs": [
    {
     "name": "stdout",
     "output_type": "stream",
     "text": [
      "      umur  gender  nominal  periode_transaksi\n",
      "0       62       1   800000                  2\n",
      "1        4       1   375000                  2\n",
      "2       72       0  5000000                  2\n",
      "3       80       0  1237500                  2\n",
      "4       62       1   800000                  2\n",
      "...    ...     ...      ...                ...\n",
      "8148    69       0   100000                  0\n",
      "8149    69       0  2500000                  0\n",
      "8150    69       0   475000                  0\n",
      "8151    69       0   500000                  0\n",
      "8152    69       0   475000                  2\n",
      "\n",
      "[8153 rows x 4 columns]\n"
     ]
    }
   ],
   "source": [
    "from sklearn.preprocessing import LabelEncoder\n",
    "\n",
    "# Inisialisasi LabelEncoder\n",
    "encoder = LabelEncoder()\n",
    "\n",
    "# Mengkodekan kolom 'Gender'\n",
    "df['gender'] = encoder.fit_transform(df['gender'])\n",
    "\n",
    "# Mengkodekan kolom 'Periode Transaksi'\n",
    "df['periode_transaksi'] = encoder.fit_transform(df['periode_transaksi'])\n",
    "\n",
    "# Menampilkan DataFrame dengan kolom yang telah diencode\n",
    "print(df)"
   ]
  },
  {
   "cell_type": "markdown",
   "id": "e2f07616",
   "metadata": {},
   "source": [
    "### Elbow Method"
   ]
  },
  {
   "cell_type": "code",
   "execution_count": 18,
   "id": "55308800",
   "metadata": {},
   "outputs": [
    {
     "name": "stderr",
     "output_type": "stream",
     "text": [
      "C:\\Users\\Julia\\.conda\\envs\\OpenCV\\lib\\site-packages\\sklearn\\cluster\\_kmeans.py:1412: FutureWarning: The default value of `n_init` will change from 10 to 'auto' in 1.4. Set the value of `n_init` explicitly to suppress the warning\n",
      "  super()._check_params_vs_input(X, default_n_init=10)\n",
      "C:\\Users\\Julia\\.conda\\envs\\OpenCV\\lib\\site-packages\\sklearn\\cluster\\_kmeans.py:1412: FutureWarning: The default value of `n_init` will change from 10 to 'auto' in 1.4. Set the value of `n_init` explicitly to suppress the warning\n",
      "  super()._check_params_vs_input(X, default_n_init=10)\n",
      "C:\\Users\\Julia\\.conda\\envs\\OpenCV\\lib\\site-packages\\sklearn\\cluster\\_kmeans.py:1412: FutureWarning: The default value of `n_init` will change from 10 to 'auto' in 1.4. Set the value of `n_init` explicitly to suppress the warning\n",
      "  super()._check_params_vs_input(X, default_n_init=10)\n",
      "C:\\Users\\Julia\\.conda\\envs\\OpenCV\\lib\\site-packages\\sklearn\\cluster\\_kmeans.py:1412: FutureWarning: The default value of `n_init` will change from 10 to 'auto' in 1.4. Set the value of `n_init` explicitly to suppress the warning\n",
      "  super()._check_params_vs_input(X, default_n_init=10)\n",
      "C:\\Users\\Julia\\.conda\\envs\\OpenCV\\lib\\site-packages\\sklearn\\cluster\\_kmeans.py:1412: FutureWarning: The default value of `n_init` will change from 10 to 'auto' in 1.4. Set the value of `n_init` explicitly to suppress the warning\n",
      "  super()._check_params_vs_input(X, default_n_init=10)\n",
      "C:\\Users\\Julia\\.conda\\envs\\OpenCV\\lib\\site-packages\\sklearn\\cluster\\_kmeans.py:1412: FutureWarning: The default value of `n_init` will change from 10 to 'auto' in 1.4. Set the value of `n_init` explicitly to suppress the warning\n",
      "  super()._check_params_vs_input(X, default_n_init=10)\n",
      "C:\\Users\\Julia\\.conda\\envs\\OpenCV\\lib\\site-packages\\sklearn\\cluster\\_kmeans.py:1412: FutureWarning: The default value of `n_init` will change from 10 to 'auto' in 1.4. Set the value of `n_init` explicitly to suppress the warning\n",
      "  super()._check_params_vs_input(X, default_n_init=10)\n",
      "C:\\Users\\Julia\\.conda\\envs\\OpenCV\\lib\\site-packages\\sklearn\\cluster\\_kmeans.py:1412: FutureWarning: The default value of `n_init` will change from 10 to 'auto' in 1.4. Set the value of `n_init` explicitly to suppress the warning\n",
      "  super()._check_params_vs_input(X, default_n_init=10)\n",
      "C:\\Users\\Julia\\.conda\\envs\\OpenCV\\lib\\site-packages\\sklearn\\cluster\\_kmeans.py:1412: FutureWarning: The default value of `n_init` will change from 10 to 'auto' in 1.4. Set the value of `n_init` explicitly to suppress the warning\n",
      "  super()._check_params_vs_input(X, default_n_init=10)\n",
      "C:\\Users\\Julia\\.conda\\envs\\OpenCV\\lib\\site-packages\\sklearn\\cluster\\_kmeans.py:1412: FutureWarning: The default value of `n_init` will change from 10 to 'auto' in 1.4. Set the value of `n_init` explicitly to suppress the warning\n",
      "  super()._check_params_vs_input(X, default_n_init=10)\n"
     ]
    },
    {
     "data": {
      "image/png": "[encoded data removed]",
      "text/plain": [
       "<Figure size 800x400 with 1 Axes>"
      ]
     },
     "metadata": {},
     "output_type": "display_data"
    }
   ],
   "source": [
    "from sklearn.cluster import KMeans\n",
    "import matplotlib.pyplot as plt\n",
    "\n",
    "df2 = df['nominal'].to_numpy().reshape(-1, 1)\n",
    "\n",
    "# List untuk menyimpan nilai inersia\n",
    "inertia = []\n",
    "\n",
    "# Melakukan perulangan untuk berbagai nilai k (misalnya, dari 1 hingga 10)\n",
    "for k in range(1, 11):\n",
    "    kmeans = KMeans(n_clusters=k, random_state=0)\n",
    "    kmeans.fit(df2)\n",
    "    inertia.append(kmeans.inertia_)\n",
    "\n",
    "# Menampilkan plot elbow method\n",
    "plt.figure(figsize=(8, 4))\n",
    "plt.plot(range(1, 11), inertia, marker='o', linestyle='-', color='b')\n",
    "plt.xlabel('Jumlah Cluster (k)')\n",
    "plt.ylabel('Inertia')\n",
    "plt.title('Elbow Method')\n",
    "plt.grid()\n",
    "plt.show()\n"
   ]
  },
  {
   "cell_type": "code",
   "execution_count": 19,
   "id": "a886b0f5",
   "metadata": {},
   "outputs": [
    {
     "name": "stderr",
     "output_type": "stream",
     "text": [
      "C:\\Users\\Julia\\.conda\\envs\\OpenCV\\lib\\site-packages\\sklearn\\cluster\\_kmeans.py:1412: FutureWarning: The default value of `n_init` will change from 10 to 'auto' in 1.4. Set the value of `n_init` explicitly to suppress the warning\n",
      "  super()._check_params_vs_input(X, default_n_init=10)\n"
     ]
    }
   ],
   "source": [
    "# Menentukan jumlah cluster (k=2)\n",
    "k = 2\n",
    "\n",
    "kmeans = KMeans(n_clusters=k, random_state=0)\n",
    "kmeans.fit(df2)\n",
    "df['Cluster'] = kmeans.labels_\n"
   ]
  },
  {
   "cell_type": "code",
   "execution_count": 20,
   "id": "a807ee8b",
   "metadata": {},
   "outputs": [
    {
     "name": "stdout",
     "output_type": "stream",
     "text": [
      "      umur  gender  nominal  periode_transaksi  Cluster\n",
      "0       62       1   800000                  2        0\n",
      "1        4       1   375000                  2        0\n",
      "2       72       0  5000000                  2        0\n",
      "3       80       0  1237500                  2        0\n",
      "4       62       1   800000                  2        0\n",
      "...    ...     ...      ...                ...      ...\n",
      "8148    69       0   100000                  0        0\n",
      "8149    69       0  2500000                  0        0\n",
      "8150    69       0   475000                  0        0\n",
      "8151    69       0   500000                  0        0\n",
      "8152    69       0   475000                  2        0\n",
      "\n",
      "[8153 rows x 5 columns]\n"
     ]
    }
   ],
   "source": [
    "print(df)\n",
    "\n"
   ]
  },
  {
   "cell_type": "code",
   "execution_count": 21,
   "id": "119c2634",
   "metadata": {},
   "outputs": [
    {
     "name": "stderr",
     "output_type": "stream",
     "text": [
      "No artists with labels found to put in legend.  Note that artists whose label start with an underscore are ignored when legend() is called with no argument.\n"
     ]
    },
    {
     "data": {
      "image/png": "[encoded data removed]",
      "text/plain": [
       "<Figure size 640x480 with 1 Axes>"
      ]
     },
     "metadata": {},
     "output_type": "display_data"
    }
   ],
   "source": [
    "# Lihat data nominal\n",
    "# Plot hasil clustering\n",
    "plt.scatter(range(len(df)), df[\"nominal\"], c=df['Cluster'], cmap='rainbow')\n",
    "plt.xlabel('Length')\n",
    "plt.ylabel('Nominal')\n",
    "plt.title('Hasil Clustering dengan K-Means (k=2)')\n",
    "plt.legend()\n",
    "plt.show()\n",
    "\n"
   ]
  },
  {
   "cell_type": "code",
   "execution_count": 22,
   "id": "22f8a770",
   "metadata": {},
   "outputs": [
    {
     "data": {
      "text/plain": [
       "Cluster\n",
       "0    8151\n",
       "1       2\n",
       "Name: count, dtype: int64"
      ]
     },
     "execution_count": 22,
     "metadata": {},
     "output_type": "execute_result"
    }
   ],
   "source": [
    "df[\"Cluster\"].value_counts()"
   ]
  },
  {
   "cell_type": "code",
   "execution_count": 23,
   "id": "206bad6d",
   "metadata": {},
   "outputs": [
    {
     "name": "stderr",
     "output_type": "stream",
     "text": [
      "C:\\Users\\Julia\\.conda\\envs\\OpenCV\\lib\\site-packages\\sklearn\\cluster\\_kmeans.py:1412: FutureWarning: The default value of `n_init` will change from 10 to 'auto' in 1.4. Set the value of `n_init` explicitly to suppress the warning\n",
      "  super()._check_params_vs_input(X, default_n_init=10)\n"
     ]
    }
   ],
   "source": [
    "# Menentukan jumlah cluster (k=3)\n",
    "# Percobaan k = 3\n",
    "k = 3\n",
    "\n",
    "kmeans = KMeans(n_clusters=k, random_state=0)\n",
    "kmeans.fit(df2)\n",
    "df['Cluster'] = kmeans.labels_\n"
   ]
  },
  {
   "cell_type": "code",
   "execution_count": 24,
   "id": "97096d3d",
   "metadata": {},
   "outputs": [
    {
     "data": {
      "text/plain": [
       "Cluster\n",
       "0    8042\n",
       "2     109\n",
       "1       2\n",
       "Name: count, dtype: int64"
      ]
     },
     "execution_count": 24,
     "metadata": {},
     "output_type": "execute_result"
    }
   ],
   "source": [
    "df[\"Cluster\"].value_counts()"
   ]
  },
  {
   "cell_type": "code",
   "execution_count": 25,
   "id": "44da90d2",
   "metadata": {},
   "outputs": [
    {
     "name": "stderr",
     "output_type": "stream",
     "text": [
      "C:\\Users\\Julia\\.conda\\envs\\OpenCV\\lib\\site-packages\\sklearn\\cluster\\_kmeans.py:1412: FutureWarning: The default value of `n_init` will change from 10 to 'auto' in 1.4. Set the value of `n_init` explicitly to suppress the warning\n",
      "  super()._check_params_vs_input(X, default_n_init=10)\n"
     ]
    }
   ],
   "source": [
    "k = 4\n",
    "\n",
    "kmeans = KMeans(n_clusters=k, random_state=0)\n",
    "kmeans.fit(df2)\n",
    "df['Cluster'] = kmeans.labels_"
   ]
  },
  {
   "cell_type": "code",
   "execution_count": 26,
   "id": "3cb8599f",
   "metadata": {},
   "outputs": [
    {
     "data": {
      "text/plain": [
       "Cluster\n",
       "0    8002\n",
       "3     133\n",
       "2      16\n",
       "1       2\n",
       "Name: count, dtype: int64"
      ]
     },
     "execution_count": 26,
     "metadata": {},
     "output_type": "execute_result"
    }
   ],
   "source": [
    "df[\"Cluster\"].value_counts()"
   ]
  },
  {
   "cell_type": "code",
   "execution_count": 27,
   "id": "dd1c15a4",
   "metadata": {},
   "outputs": [
    {
     "name": "stderr",
     "output_type": "stream",
     "text": [
      "C:\\Users\\Julia\\.conda\\envs\\OpenCV\\lib\\site-packages\\sklearn\\cluster\\_kmeans.py:1412: FutureWarning: The default value of `n_init` will change from 10 to 'auto' in 1.4. Set the value of `n_init` explicitly to suppress the warning\n",
      "  super()._check_params_vs_input(X, default_n_init=10)\n"
     ]
    }
   ],
   "source": [
    "k = 5\n",
    "\n",
    "kmeans = KMeans(n_clusters=k, random_state=0)\n",
    "kmeans.fit(df2)\n",
    "df['Cluster'] = kmeans.labels_"
   ]
  },
  {
   "cell_type": "code",
   "execution_count": 28,
   "id": "70154521",
   "metadata": {},
   "outputs": [
    {
     "data": {
      "text/plain": [
       "Cluster\n",
       "0    7729\n",
       "4     313\n",
       "3      93\n",
       "2      16\n",
       "1       2\n",
       "Name: count, dtype: int64"
      ]
     },
     "execution_count": 28,
     "metadata": {},
     "output_type": "execute_result"
    }
   ],
   "source": [
    "df[\"Cluster\"].value_counts()"
   ]
  },
  {
   "cell_type": "code",
   "execution_count": 29,
   "id": "31d1e299",
   "metadata": {},
   "outputs": [
    {
     "name": "stderr",
     "output_type": "stream",
     "text": [
      "C:\\Users\\Julia\\.conda\\envs\\OpenCV\\lib\\site-packages\\sklearn\\cluster\\_kmeans.py:1412: FutureWarning: The default value of `n_init` will change from 10 to 'auto' in 1.4. Set the value of `n_init` explicitly to suppress the warning\n",
      "  super()._check_params_vs_input(X, default_n_init=10)\n"
     ]
    }
   ],
   "source": [
    "k = 3\n",
    "\n",
    "kmeans = KMeans(n_clusters=k, random_state=0)\n",
    "kmeans.fit(df2)\n",
    "df['Cluster'] = kmeans.labels_\n"
   ]
  },
  {
   "cell_type": "code",
   "execution_count": 30,
   "id": "7e77a673",
   "metadata": {},
   "outputs": [
    {
     "data": {
      "text/plain": [
       "Cluster\n",
       "0    8042\n",
       "2     109\n",
       "1       2\n",
       "Name: count, dtype: int64"
      ]
     },
     "execution_count": 30,
     "metadata": {},
     "output_type": "execute_result"
    }
   ],
   "source": [
    "df[\"Cluster\"].value_counts()"
   ]
  },
  {
   "cell_type": "code",
   "execution_count": 31,
   "id": "5d169ede",
   "metadata": {},
   "outputs": [
    {
     "data": {
      "text/plain": [
       "(7049, 5)"
      ]
     },
     "execution_count": 31,
     "metadata": {},
     "output_type": "execute_result"
    }
   ],
   "source": [
    "Q1 = df[\"nominal\"].quantile(.25)\n",
    "Q3 = df[\"nominal\"].quantile(.75)\n",
    "IQR = Q3 - Q1\n",
    "\n",
    "min_IQR = IQR - 1.5*Q1\n",
    "max_IQR = IQR + 1.5*Q3\n",
    "\n",
    "# remove outlier\n",
    "df = df[~((df > (Q3 + 1.5 * IQR))).any(axis=1)]\n",
    "df.shape"
   ]
  },
  {
   "cell_type": "code",
   "execution_count": 32,
   "id": "00be4ff1",
   "metadata": {},
   "outputs": [
    {
     "name": "stderr",
     "output_type": "stream",
     "text": [
      "C:\\Users\\Julia\\.conda\\envs\\OpenCV\\lib\\site-packages\\sklearn\\cluster\\_kmeans.py:1412: FutureWarning: The default value of `n_init` will change from 10 to 'auto' in 1.4. Set the value of `n_init` explicitly to suppress the warning\n",
      "  super()._check_params_vs_input(X, default_n_init=10)\n",
      "C:\\Users\\Julia\\.conda\\envs\\OpenCV\\lib\\site-packages\\sklearn\\cluster\\_kmeans.py:1412: FutureWarning: The default value of `n_init` will change from 10 to 'auto' in 1.4. Set the value of `n_init` explicitly to suppress the warning\n",
      "  super()._check_params_vs_input(X, default_n_init=10)\n",
      "C:\\Users\\Julia\\.conda\\envs\\OpenCV\\lib\\site-packages\\sklearn\\cluster\\_kmeans.py:1412: FutureWarning: The default value of `n_init` will change from 10 to 'auto' in 1.4. Set the value of `n_init` explicitly to suppress the warning\n",
      "  super()._check_params_vs_input(X, default_n_init=10)\n",
      "C:\\Users\\Julia\\.conda\\envs\\OpenCV\\lib\\site-packages\\sklearn\\cluster\\_kmeans.py:1412: FutureWarning: The default value of `n_init` will change from 10 to 'auto' in 1.4. Set the value of `n_init` explicitly to suppress the warning\n",
      "  super()._check_params_vs_input(X, default_n_init=10)\n",
      "C:\\Users\\Julia\\.conda\\envs\\OpenCV\\lib\\site-packages\\sklearn\\cluster\\_kmeans.py:1412: FutureWarning: The default value of `n_init` will change from 10 to 'auto' in 1.4. Set the value of `n_init` explicitly to suppress the warning\n",
      "  super()._check_params_vs_input(X, default_n_init=10)\n",
      "C:\\Users\\Julia\\.conda\\envs\\OpenCV\\lib\\site-packages\\sklearn\\cluster\\_kmeans.py:1412: FutureWarning: The default value of `n_init` will change from 10 to 'auto' in 1.4. Set the value of `n_init` explicitly to suppress the warning\n",
      "  super()._check_params_vs_input(X, default_n_init=10)\n",
      "C:\\Users\\Julia\\.conda\\envs\\OpenCV\\lib\\site-packages\\sklearn\\cluster\\_kmeans.py:1412: FutureWarning: The default value of `n_init` will change from 10 to 'auto' in 1.4. Set the value of `n_init` explicitly to suppress the warning\n",
      "  super()._check_params_vs_input(X, default_n_init=10)\n",
      "C:\\Users\\Julia\\.conda\\envs\\OpenCV\\lib\\site-packages\\sklearn\\cluster\\_kmeans.py:1412: FutureWarning: The default value of `n_init` will change from 10 to 'auto' in 1.4. Set the value of `n_init` explicitly to suppress the warning\n",
      "  super()._check_params_vs_input(X, default_n_init=10)\n",
      "C:\\Users\\Julia\\.conda\\envs\\OpenCV\\lib\\site-packages\\sklearn\\cluster\\_kmeans.py:1412: FutureWarning: The default value of `n_init` will change from 10 to 'auto' in 1.4. Set the value of `n_init` explicitly to suppress the warning\n",
      "  super()._check_params_vs_input(X, default_n_init=10)\n",
      "C:\\Users\\Julia\\.conda\\envs\\OpenCV\\lib\\site-packages\\sklearn\\cluster\\_kmeans.py:1412: FutureWarning: The default value of `n_init` will change from 10 to 'auto' in 1.4. Set the value of `n_init` explicitly to suppress the warning\n",
      "  super()._check_params_vs_input(X, default_n_init=10)\n"
     ]
    },
    {
     "data": {
      "image/png": "[encoded data removed]",
      "text/plain": [
       "<Figure size 800x400 with 1 Axes>"
      ]
     },
     "metadata": {},
     "output_type": "display_data"
    }
   ],
   "source": [
    "from sklearn.cluster import KMeans\n",
    "import matplotlib.pyplot as plt\n",
    "\n",
    "df2 = df['nominal'].to_numpy().reshape(-1, 1)\n",
    "\n",
    "# List untuk menyimpan nilai inersia\n",
    "inertia = []\n",
    "\n",
    "# Melakukan perulangan untuk berbagai nilai k (misalnya, dari 1 hingga 10)\n",
    "for k in range(1, 11):\n",
    "    kmeans = KMeans(n_clusters=k, random_state=0)\n",
    "    kmeans.fit(df2)\n",
    "    inertia.append(kmeans.inertia_)\n",
    "\n",
    "# Menampilkan plot elbow method\n",
    "plt.figure(figsize=(8, 4))\n",
    "plt.plot(range(1, 11), inertia, marker='o', linestyle='-', color='b')\n",
    "plt.xlabel('Jumlah Cluster (k)')\n",
    "plt.ylabel('Inertia')\n",
    "plt.title('Elbow Method')\n",
    "plt.grid()\n",
    "plt.show()\n"
   ]
  },
  {
   "cell_type": "code",
   "execution_count": 33,
   "id": "47c30d69",
   "metadata": {},
   "outputs": [
    {
     "name": "stderr",
     "output_type": "stream",
     "text": [
      "C:\\Users\\Julia\\.conda\\envs\\OpenCV\\lib\\site-packages\\sklearn\\cluster\\_kmeans.py:1412: FutureWarning: The default value of `n_init` will change from 10 to 'auto' in 1.4. Set the value of `n_init` explicitly to suppress the warning\n",
      "  super()._check_params_vs_input(X, default_n_init=10)\n"
     ]
    }
   ],
   "source": [
    "k = 2\n",
    "\n",
    "kmeans = KMeans(n_clusters=k, random_state=0)\n",
    "df2 = df[\"nominal\"].to_numpy().reshape(-1, 1)\n",
    "kmeans.fit(df2)\n",
    "df['Cluster'] = kmeans.labels_\n"
   ]
  },
  {
   "cell_type": "code",
   "execution_count": 34,
   "id": "bf0be2a8",
   "metadata": {},
   "outputs": [
    {
     "data": {
      "text/plain": [
       "Cluster\n",
       "0    5032\n",
       "1    2017\n",
       "Name: count, dtype: int64"
      ]
     },
     "execution_count": 34,
     "metadata": {},
     "output_type": "execute_result"
    }
   ],
   "source": [
    "df[\"Cluster\"].value_counts()"
   ]
  },
  {
   "cell_type": "code",
   "execution_count": 35,
   "id": "8ab1f7e7",
   "metadata": {},
   "outputs": [
    {
     "name": "stderr",
     "output_type": "stream",
     "text": [
      "No artists with labels found to put in legend.  Note that artists whose label start with an underscore are ignored when legend() is called with no argument.\n"
     ]
    },
    {
     "data": {
      "image/png": "[encoded data removed]",
      "text/plain": [
       "<Figure size 640x480 with 1 Axes>"
      ]
     },
     "metadata": {},
     "output_type": "display_data"
    }
   ],
   "source": [
    "# Lihat data nominal\n",
    "# Plot hasil clustering\n",
    "plt.scatter(range(len(df)), df[\"nominal\"], c=df['Cluster'], cmap='rainbow')\n",
    "plt.xlabel('Length')\n",
    "plt.ylabel('Nominal')\n",
    "plt.title('Hasil Clustering dengan K-Means (k=2)')\n",
    "plt.legend()\n",
    "plt.show()\n",
    "\n"
   ]
  },
  {
   "cell_type": "code",
   "execution_count": 36,
   "id": "9daced98",
   "metadata": {},
   "outputs": [
    {
     "data": {
      "image/png": "[encoded data removed]",
      "text/plain": [
       "<Figure size 1000x500 with 1 Axes>"
      ]
     },
     "metadata": {},
     "output_type": "display_data"
    }
   ],
   "source": [
    "fig, ax = plt.subplots(figsize=(10, 5), layout=\"constrained\")\n",
    "\n",
    "ax.scatter(df[df[\"Cluster\"] == 0][\"umur\"], df[df[\"Cluster\"] == 0][\"nominal\"], color=\"blue\", label=\"0\")\n",
    "ax.scatter(df[df[\"Cluster\"] == 1][\"umur\"], df[df[\"Cluster\"] == 1][\"nominal\"], color=\"red\", label=\"1\")\n",
    "\n",
    "plt.legend()\n",
    "plt.show()\n"
   ]
  },
  {
   "cell_type": "code",
   "execution_count": 37,
   "id": "e82c91a1",
   "metadata": {},
   "outputs": [
    {
     "data": {
      "text/plain": [
       "count      5032.000000\n",
       "mean     195860.928855\n",
       "std      123289.154267\n",
       "min           1.000000\n",
       "25%      100000.000000\n",
       "50%      192877.000000\n",
       "75%      280887.500000\n",
       "max      460450.000000\n",
       "Name: nominal, dtype: float64"
      ]
     },
     "execution_count": 37,
     "metadata": {},
     "output_type": "execute_result"
    }
   ],
   "source": [
    "df[df[\"Cluster\"] == 0][\"nominal\"].describe()"
   ]
  },
  {
   "cell_type": "code",
   "execution_count": 38,
   "id": "cfba874a",
   "metadata": {},
   "outputs": [
    {
     "data": {
      "text/plain": [
       "count    2.017000e+03\n",
       "mean     7.264184e+05\n",
       "std      2.317427e+05\n",
       "min      4.614560e+05\n",
       "25%      5.474080e+05\n",
       "50%      6.200000e+05\n",
       "75%      8.770890e+05\n",
       "max      1.390000e+06\n",
       "Name: nominal, dtype: float64"
      ]
     },
     "execution_count": 38,
     "metadata": {},
     "output_type": "execute_result"
    }
   ],
   "source": [
    "df[df[\"Cluster\"] == 1][\"nominal\"].describe()"
   ]
  },
  {
   "cell_type": "code",
   "execution_count": 39,
   "id": "70e76251",
   "metadata": {},
   "outputs": [
    {
     "name": "stderr",
     "output_type": "stream",
     "text": [
      "C:\\Users\\Julia\\.conda\\envs\\OpenCV\\lib\\site-packages\\seaborn\\_oldcore.py:1498: FutureWarning: is_categorical_dtype is deprecated and will be removed in a future version. Use isinstance(dtype, CategoricalDtype) instead\n",
      "  if pd.api.types.is_categorical_dtype(vector):\n",
      "C:\\Users\\Julia\\.conda\\envs\\OpenCV\\lib\\site-packages\\seaborn\\_oldcore.py:1498: FutureWarning: is_categorical_dtype is deprecated and will be removed in a future version. Use isinstance(dtype, CategoricalDtype) instead\n",
      "  if pd.api.types.is_categorical_dtype(vector):\n",
      "C:\\Users\\Julia\\.conda\\envs\\OpenCV\\lib\\site-packages\\seaborn\\_oldcore.py:1498: FutureWarning: is_categorical_dtype is deprecated and will be removed in a future version. Use isinstance(dtype, CategoricalDtype) instead\n",
      "  if pd.api.types.is_categorical_dtype(vector):\n"
     ]
    },
    {
     "data": {
      "text/plain": [
       "<Axes: xlabel='Cluster', ylabel='nominal'>"
      ]
     },
     "execution_count": 39,
     "metadata": {},
     "output_type": "execute_result"
    },
    {
     "data": {
      "image/png": "[encoded data removed]",
      "text/plain": [
       "<Figure size 640x480 with 1 Axes>"
      ]
     },
     "metadata": {},
     "output_type": "display_data"
    }
   ],
   "source": [
    "import seaborn as sns\n",
    "sns.boxplot(data=df, x=\"Cluster\", y=\"nominal\")"
   ]
  },
  {
   "cell_type": "markdown",
   "id": "4cdc5666",
   "metadata": {},
   "source": [
    "### Cluster ke 0 = Nominal rendah dan Cluster ke 1 = Nominal tinggi"
   ]
  },
  {
   "cell_type": "code",
   "execution_count": 40,
   "id": "dd881358",
   "metadata": {},
   "outputs": [],
   "source": [
    "result = {0: \"Nominal rendah\", 1: \"Nominal tinggi\"}\n",
    "\n",
    "resultt = [result[i] for i in df[\"Cluster\"]]\n",
    "df[\"kategori_nominal\"] = resultt\n",
    "df.drop(\"Cluster\", axis=1, inplace=True)"
   ]
  },
  {
   "cell_type": "code",
   "execution_count": 41,
   "id": "6ba39770",
   "metadata": {},
   "outputs": [
    {
     "data": {
      "text/html": [
       "<div>\n",
       "<style scoped>\n",
       "    .dataframe tbody tr th:only-of-type {\n",
       "        vertical-align: middle;\n",
       "    }\n",
       "\n",
       "    .dataframe tbody tr th {\n",
       "        vertical-align: top;\n",
       "    }\n",
       "\n",
       "    .dataframe thead th {\n",
       "        text-align: right;\n",
       "    }\n",
       "</style>\n",
       "<table border=\"1\" class=\"dataframe\">\n",
       "  <thead>\n",
       "    <tr style=\"text-align: right;\">\n",
       "      <th></th>\n",
       "      <th>umur</th>\n",
       "      <th>gender</th>\n",
       "      <th>nominal</th>\n",
       "      <th>periode_transaksi</th>\n",
       "      <th>kategori_nominal</th>\n",
       "    </tr>\n",
       "  </thead>\n",
       "  <tbody>\n",
       "    <tr>\n",
       "      <th>0</th>\n",
       "      <td>62</td>\n",
       "      <td>1</td>\n",
       "      <td>800000</td>\n",
       "      <td>2</td>\n",
       "      <td>Nominal tinggi</td>\n",
       "    </tr>\n",
       "    <tr>\n",
       "      <th>1</th>\n",
       "      <td>4</td>\n",
       "      <td>1</td>\n",
       "      <td>375000</td>\n",
       "      <td>2</td>\n",
       "      <td>Nominal rendah</td>\n",
       "    </tr>\n",
       "    <tr>\n",
       "      <th>3</th>\n",
       "      <td>80</td>\n",
       "      <td>0</td>\n",
       "      <td>1237500</td>\n",
       "      <td>2</td>\n",
       "      <td>Nominal tinggi</td>\n",
       "    </tr>\n",
       "    <tr>\n",
       "      <th>4</th>\n",
       "      <td>62</td>\n",
       "      <td>1</td>\n",
       "      <td>800000</td>\n",
       "      <td>2</td>\n",
       "      <td>Nominal tinggi</td>\n",
       "    </tr>\n",
       "    <tr>\n",
       "      <th>5</th>\n",
       "      <td>80</td>\n",
       "      <td>0</td>\n",
       "      <td>1237500</td>\n",
       "      <td>2</td>\n",
       "      <td>Nominal tinggi</td>\n",
       "    </tr>\n",
       "  </tbody>\n",
       "</table>\n",
       "</div>"
      ],
      "text/plain": [
       "   umur  gender  nominal  periode_transaksi kategori_nominal\n",
       "0    62       1   800000                  2   Nominal tinggi\n",
       "1     4       1   375000                  2   Nominal rendah\n",
       "3    80       0  1237500                  2   Nominal tinggi\n",
       "4    62       1   800000                  2   Nominal tinggi\n",
       "5    80       0  1237500                  2   Nominal tinggi"
      ]
     },
     "execution_count": 41,
     "metadata": {},
     "output_type": "execute_result"
    }
   ],
   "source": [
    "df.head(5)"
   ]
  },
  {
   "cell_type": "code",
   "execution_count": 42,
   "id": "7cf91a5a",
   "metadata": {},
   "outputs": [],
   "source": [
    "df.to_csv(\"./data_baru.csv\")"
   ]
  },
  {
   "cell_type": "markdown",
   "id": "2c814ed2",
   "metadata": {},
   "source": [
    "### Data Splitting"
   ]
  },
  {
   "cell_type": "code",
   "execution_count": 43,
   "id": "84ea4cba",
   "metadata": {},
   "outputs": [
    {
     "name": "stdout",
     "output_type": "stream",
     "text": [
      "      umur  gender  nominal  periode_transaksi kategori_nominal\n",
      "7354    51       0   420000                  2   Nominal rendah\n",
      "1977    32       1   288123                  2   Nominal rendah\n",
      "5006    40       1  1065965                  2   Nominal tinggi\n",
      "5185    40       0   300000                  1   Nominal rendah\n",
      "4826    40       1   489580                  0   Nominal tinggi\n",
      "3520    37       0   332920                  2   Nominal rendah\n",
      "5949    42       0  1000000                  2   Nominal tinggi\n",
      "4678    40       0   215968                  2   Nominal rendah\n",
      "4428    39       0   100000                  2   Nominal rendah\n",
      "2711    34       0   116000                  2   Nominal rendah\n"
     ]
    }
   ],
   "source": [
    "import numpy as np\n",
    "\n",
    "# Mengambil 10 sampel acak dari data menggunakan metode random sampling\n",
    "n = 10\n",
    "random_sample = df.sample(n)\n",
    "print(random_sample)"
   ]
  },
  {
   "cell_type": "code",
   "execution_count": 44,
   "id": "b021918a",
   "metadata": {},
   "outputs": [],
   "source": [
    "nominal = LabelEncoder().fit(df[\"kategori_nominal\"])\n",
    "df[\"kategori_nominal\"] = nominal.transform(df[\"kategori_nominal\"])"
   ]
  },
  {
   "cell_type": "code",
   "execution_count": 45,
   "id": "7971b5da",
   "metadata": {},
   "outputs": [],
   "source": [
    "from sklearn.model_selection import train_test_split\n",
    "\n",
    "# train_df akan berisi data pelatihan\n",
    "# test_df akan berisi data pengujian\n",
    "# Pisahkan data menjadi data pelatihan (80%) dan data pengujian (20%)\n",
    "\n",
    "X = df.drop(['kategori_nominal', \"nominal\"], axis=1)  # 'nominal' adalah variabel target\n",
    "y = df['kategori_nominal']\n",
    "\n",
    "X_train, X_test, y_train, y_test = train_test_split(X, y, test_size=0.2, random_state=42)\n"
   ]
  },
  {
   "cell_type": "code",
   "execution_count": 46,
   "id": "d1691cc6",
   "metadata": {},
   "outputs": [
    {
     "name": "stdout",
     "output_type": "stream",
     "text": [
      "Data Pelatihan:\n",
      "      umur  gender  periode_transaksi\n",
      "425     27       0                  2\n",
      "5011    40       0                  2\n",
      "5505    41       0                  2\n",
      "1302    31       0                  0\n",
      "2517    34       0                  2\n",
      "...    ...     ...                ...\n",
      "4166    39       0                  2\n",
      "5719    42       0                  1\n",
      "5757    42       0                  2\n",
      "5937    42       0                  2\n",
      "985     30       0                  2\n",
      "\n",
      "[5639 rows x 3 columns]\n",
      "425     0\n",
      "5011    1\n",
      "5505    1\n",
      "1302    0\n",
      "2517    0\n",
      "       ..\n",
      "4166    0\n",
      "5719    0\n",
      "5757    0\n",
      "5937    0\n",
      "985     1\n",
      "Name: kategori_nominal, Length: 5639, dtype: int32\n",
      "\n",
      "Data Pengujian:\n",
      "      umur  gender  periode_transaksi\n",
      "3610    37       1                  2\n",
      "1757    32       0                  2\n",
      "2416    33       0                  0\n",
      "3586    37       1                  2\n",
      "6379    45       1                  2\n",
      "...    ...     ...                ...\n",
      "7770    54       0                  2\n",
      "2537    34       0                  1\n",
      "2058    32       0                  2\n",
      "18      62       1                  2\n",
      "7113    49       1                  1\n",
      "\n",
      "[1410 rows x 3 columns]\n",
      "3610    0\n",
      "1757    0\n",
      "2416    0\n",
      "3586    0\n",
      "6379    1\n",
      "       ..\n",
      "7770    0\n",
      "2537    0\n",
      "2058    0\n",
      "18      1\n",
      "7113    0\n",
      "Name: kategori_nominal, Length: 1410, dtype: int32\n"
     ]
    }
   ],
   "source": [
    "# Menampilkan hasil pemisahan\n",
    "print(\"Data Pelatihan:\")\n",
    "print(X_train)\n",
    "print(y_train)\n",
    "\n",
    "print(\"\\nData Pengujian:\")\n",
    "print(X_test)\n",
    "print(y_test)"
   ]
  },
  {
   "cell_type": "markdown",
   "id": "a977c5d9",
   "metadata": {},
   "source": [
    "# Modeling"
   ]
  },
  {
   "cell_type": "code",
   "execution_count": 47,
   "id": "88fc0174",
   "metadata": {},
   "outputs": [],
   "source": [
    "from sklearn.tree import DecisionTreeClassifier\n",
    "from sklearn.metrics import accuracy_score, precision_score, recall_score, confusion_matrix\n",
    "import pickle"
   ]
  },
  {
   "cell_type": "code",
   "execution_count": 48,
   "id": "2ffa3c43",
   "metadata": {},
   "outputs": [
    {
     "data": {
      "text/html": [
       "<style>#sk-container-id-1 {color: black;}#sk-container-id-1 pre{padding: 0;}#sk-container-id-1 div.sk-toggleable {background-color: white;}#sk-container-id-1 label.sk-toggleable__label {cursor: pointer;display: block;width: 100%;margin-bottom: 0;padding: 0.3em;box-sizing: border-box;text-align: center;}#sk-container-id-1 label.sk-toggleable__label-arrow:before {content: \"▸\";float: left;margin-right: 0.25em;color: #696969;}#sk-container-id-1 label.sk-toggleable__label-arrow:hover:before {color: black;}#sk-container-id-1 div.sk-estimator:hover label.sk-toggleable__label-arrow:before {color: black;}#sk-container-id-1 div.sk-toggleable__content {max-height: 0;max-width: 0;overflow: hidden;text-align: left;background-color: #f0f8ff;}#sk-container-id-1 div.sk-toggleable__content pre {margin: 0.2em;color: black;border-radius: 0.25em;background-color: #f0f8ff;}#sk-container-id-1 input.sk-toggleable__control:checked~div.sk-toggleable__content {max-height: 200px;max-width: 100%;overflow: auto;}#sk-container-id-1 input.sk-toggleable__control:checked~label.sk-toggleable__label-arrow:before {content: \"▾\";}#sk-container-id-1 div.sk-estimator input.sk-toggleable__control:checked~label.sk-toggleable__label {background-color: #d4ebff;}#sk-container-id-1 div.sk-label input.sk-toggleable__control:checked~label.sk-toggleable__label {background-color: #d4ebff;}#sk-container-id-1 input.sk-hidden--visually {border: 0;clip: rect(1px 1px 1px 1px);clip: rect(1px, 1px, 1px, 1px);height: 1px;margin: -1px;overflow: hidden;padding: 0;position: absolute;width: 1px;}#sk-container-id-1 div.sk-estimator {font-family: monospace;background-color: #f0f8ff;border: 1px dotted black;border-radius: 0.25em;box-sizing: border-box;margin-bottom: 0.5em;}#sk-container-id-1 div.sk-estimator:hover {background-color: #d4ebff;}#sk-container-id-1 div.sk-parallel-item::after {content: \"\";width: 100%;border-bottom: 1px solid gray;flex-grow: 1;}#sk-container-id-1 div.sk-label:hover label.sk-toggleable__label {background-color: #d4ebff;}#sk-container-id-1 div.sk-serial::before {content: \"\";position: absolute;border-left: 1px solid gray;box-sizing: border-box;top: 0;bottom: 0;left: 50%;z-index: 0;}#sk-container-id-1 div.sk-serial {display: flex;flex-direction: column;align-items: center;background-color: white;padding-right: 0.2em;padding-left: 0.2em;position: relative;}#sk-container-id-1 div.sk-item {position: relative;z-index: 1;}#sk-container-id-1 div.sk-parallel {display: flex;align-items: stretch;justify-content: center;background-color: white;position: relative;}#sk-container-id-1 div.sk-item::before, #sk-container-id-1 div.sk-parallel-item::before {content: \"\";position: absolute;border-left: 1px solid gray;box-sizing: border-box;top: 0;bottom: 0;left: 50%;z-index: -1;}#sk-container-id-1 div.sk-parallel-item {display: flex;flex-direction: column;z-index: 1;position: relative;background-color: white;}#sk-container-id-1 div.sk-parallel-item:first-child::after {align-self: flex-end;width: 50%;}#sk-container-id-1 div.sk-parallel-item:last-child::after {align-self: flex-start;width: 50%;}#sk-container-id-1 div.sk-parallel-item:only-child::after {width: 0;}#sk-container-id-1 div.sk-dashed-wrapped {border: 1px dashed gray;margin: 0 0.4em 0.5em 0.4em;box-sizing: border-box;padding-bottom: 0.4em;background-color: white;}#sk-container-id-1 div.sk-label label {font-family: monospace;font-weight: bold;display: inline-block;line-height: 1.2em;}#sk-container-id-1 div.sk-label-container {text-align: center;}#sk-container-id-1 div.sk-container {/* jupyter's `normalize.less` sets `[hidden] { display: none; }` but bootstrap.min.css set `[hidden] { display: none !important; }` so we also need the `!important` here to be able to override the default hidden behavior on the sphinx rendered scikit-learn.org. See: https://github.com/scikit-learn/scikit-learn/issues/21755 */display: inline-block !important;position: relative;}#sk-container-id-1 div.sk-text-repr-fallback {display: none;}</style><div id=\"sk-container-id-1\" class=\"sk-top-container\"><div class=\"sk-text-repr-fallback\"><pre>DecisionTreeClassifier(criterion=&#x27;entropy&#x27;)</pre><b>In a Jupyter environment, please rerun this cell to show the HTML representation or trust the notebook. <br />On GitHub, the HTML representation is unable to render, please try loading this page with nbviewer.org.</b></div><div class=\"sk-container\" hidden><div class=\"sk-item\"><div class=\"sk-estimator sk-toggleable\"><input class=\"sk-toggleable__control sk-hidden--visually\" id=\"sk-estimator-id-1\" type=\"checkbox\" checked><label for=\"sk-estimator-id-1\" class=\"sk-toggleable__label sk-toggleable__label-arrow\">DecisionTreeClassifier</label><div class=\"sk-toggleable__content\"><pre>DecisionTreeClassifier(criterion=&#x27;entropy&#x27;)</pre></div></div></div></div></div>"
      ],
      "text/plain": [
       "DecisionTreeClassifier(criterion='entropy')"
      ]
     },
     "execution_count": 48,
     "metadata": {},
     "output_type": "execute_result"
    }
   ],
   "source": [
    "model_c45 = DecisionTreeClassifier(criterion='entropy')  # Gunakan 'entropy' atau 'gini' sebagai kriteria pemisahan\n",
    "model_c45.fit(X_train, y_train)"
   ]
  },
  {
   "cell_type": "code",
   "execution_count": 49,
   "id": "9563c03b",
   "metadata": {},
   "outputs": [
    {
     "name": "stdout",
     "output_type": "stream",
     "text": [
      "Entropy for umur: 4.828364839994538\n",
      "Entropy for gender: 0.8118958746170821\n",
      "Entropy for periode_transaksi: 1.1924728031324334\n",
      "Entropy for kategori_nominal: 0.863682530934168\n",
      "Entropy for nominal: 8.620609554877865\n"
     ]
    }
   ],
   "source": [
    "# Fungsi untuk menghitung entropy\n",
    "def calculate_entropy(data):\n",
    "    total_samples = len(data)\n",
    "    value_counts = data.value_counts()\n",
    "    probabilities = value_counts / total_samples\n",
    "    entropy = -sum(probabilities * np.log2(probabilities))\n",
    "    return entropy\n",
    "\n",
    "# Hitung entropy untuk setiap variabel kategorikal\n",
    "columns_to_analyze = ['umur', 'gender', 'periode_transaksi', 'kategori_nominal', 'nominal']\n",
    "\n",
    "for column in columns_to_analyze:\n",
    "    entropy = calculate_entropy(df[column])\n",
    "    print(f\"Entropy for {column}: {entropy}\")"
   ]
  },
  {
   "cell_type": "code",
   "execution_count": 50,
   "id": "4c85ec4a",
   "metadata": {},
   "outputs": [],
   "source": [
    "y_pred = model_c45.predict(X_test)"
   ]
  },
  {
   "cell_type": "markdown",
   "id": "409ccbda",
   "metadata": {},
   "source": [
    "# Evaluation"
   ]
  },
  {
   "cell_type": "code",
   "execution_count": 51,
   "id": "ae8d751e",
   "metadata": {},
   "outputs": [
    {
     "name": "stdout",
     "output_type": "stream",
     "text": [
      "Akurasi: 0.7624113475177305\n",
      "Precision: 0.6410256410256411\n",
      "Recall: 0.2638522427440633\n",
      "Confusion Matrix:\n",
      "[[975  56]\n",
      " [279 100]]\n"
     ]
    }
   ],
   "source": [
    "y_pred = model_c45.predict(X_test)\n",
    "accuracy = accuracy_score(y_test, y_pred)\n",
    "precision = precision_score(y_test, y_pred)\n",
    "recall = recall_score(y_test, y_pred)\n",
    "conf_matrix = confusion_matrix(y_test, y_pred)\n",
    "\n",
    "print(\"Akurasi:\", accuracy)\n",
    "print(\"Precision:\", precision)\n",
    "print(\"Recall:\", recall)\n",
    "print(\"Confusion Matrix:\")\n",
    "print(conf_matrix)"
   ]
  },
  {
   "cell_type": "markdown",
   "id": "f6754f34",
   "metadata": {},
   "source": [
    "### Cross Validation"
   ]
  },
  {
   "cell_type": "code",
   "execution_count": 52,
   "id": "723a9802",
   "metadata": {},
   "outputs": [
    {
     "name": "stdout",
     "output_type": "stream",
     "text": [
      "Hasil Cross-Validation:\n",
      "Rata-rata Akurasi:  0.3392113958736299\n",
      "Standar Deviasi Akurasi:  0.2100102942624363\n"
     ]
    }
   ],
   "source": [
    "from sklearn.model_selection import cross_val_score\n",
    "import numpy as np\n",
    "\n",
    "# Buat model Decision Tree\n",
    "model = DecisionTreeClassifier()\n",
    "\n",
    "# Data X dan label y telah diinisialisasi sebelumnya\n",
    "\n",
    "# Lakukan 10-Fold Cross-Validation\n",
    "scores = cross_val_score(model, X, y, cv=10, scoring='accuracy')\n",
    "\n",
    "# Tampilkan hasil cross-validation\n",
    "print(\"Hasil Cross-Validation:\")\n",
    "print(\"Rata-rata Akurasi: \", np.mean(scores))\n",
    "print(\"Standar Deviasi Akurasi: \", np.std(scores))"
   ]
  },
  {
   "cell_type": "markdown",
   "id": "1c76fe17",
   "metadata": {},
   "source": [
    "### Hyperparameter Tuning"
   ]
  },
  {
   "cell_type": "code",
   "execution_count": 53,
   "id": "c4c8c406",
   "metadata": {},
   "outputs": [
    {
     "name": "stdout",
     "output_type": "stream",
     "text": [
      "Hyperparameter terbaik: {'criterion': 'gini', 'max_depth': 10, 'max_features': 'log2', 'min_samples_leaf': 2, 'min_samples_split': 2}\n",
      "Akurasi model terbaik: 0.7631205673758865\n"
     ]
    },
    {
     "name": "stderr",
     "output_type": "stream",
     "text": [
      "C:\\Users\\Julia\\.conda\\envs\\OpenCV\\lib\\site-packages\\sklearn\\model_selection\\_validation.py:425: FitFailedWarning: \n",
      "540 fits failed out of a total of 1620.\n",
      "The score on these train-test partitions for these parameters will be set to nan.\n",
      "If these failures are not expected, you can try to debug them by setting error_score='raise'.\n",
      "\n",
      "Below are more details about the failures:\n",
      "--------------------------------------------------------------------------------\n",
      "540 fits failed with the following error:\n",
      "Traceback (most recent call last):\n",
      "  File \"C:\\Users\\Julia\\.conda\\envs\\OpenCV\\lib\\site-packages\\sklearn\\model_selection\\_validation.py\", line 732, in _fit_and_score\n",
      "    estimator.fit(X_train, y_train, **fit_params)\n",
      "  File \"C:\\Users\\Julia\\.conda\\envs\\OpenCV\\lib\\site-packages\\sklearn\\base.py\", line 1144, in wrapper\n",
      "    estimator._validate_params()\n",
      "  File \"C:\\Users\\Julia\\.conda\\envs\\OpenCV\\lib\\site-packages\\sklearn\\base.py\", line 637, in _validate_params\n",
      "    validate_parameter_constraints(\n",
      "  File \"C:\\Users\\Julia\\.conda\\envs\\OpenCV\\lib\\site-packages\\sklearn\\utils\\_param_validation.py\", line 95, in validate_parameter_constraints\n",
      "    raise InvalidParameterError(\n",
      "sklearn.utils._param_validation.InvalidParameterError: The 'max_features' parameter of DecisionTreeClassifier must be an int in the range [1, inf), a float in the range (0.0, 1.0], a str among {'log2', 'sqrt'} or None. Got 'auto' instead.\n",
      "\n",
      "  warnings.warn(some_fits_failed_message, FitFailedWarning)\n",
      "C:\\Users\\Julia\\.conda\\envs\\OpenCV\\lib\\site-packages\\sklearn\\model_selection\\_search.py:976: UserWarning: One or more of the test scores are non-finite: [       nan        nan        nan        nan        nan        nan\n",
      "        nan        nan        nan 0.73860764 0.73913956 0.73949433\n",
      " 0.73914019 0.73967195 0.73967179 0.73736667 0.7384305  0.73789858\n",
      " 0.73878495 0.73949417 0.73949433 0.73931734 0.74002719 0.73843081\n",
      " 0.73701206 0.73701159 0.7384305         nan        nan        nan\n",
      "        nan        nan        nan        nan        nan        nan\n",
      " 0.73931624 0.73913924 0.73896194 0.73754444 0.73825319 0.73789811\n",
      " 0.73718873 0.73683397 0.73754334 0.73860717 0.73896163 0.73736667\n",
      " 0.74038085 0.73825319 0.73577014 0.73825256 0.73683412 0.73754334\n",
      "        nan        nan        nan        nan        nan        nan\n",
      "        nan        nan        nan 0.73913972 0.73931686 0.73878511\n",
      " 0.7396721  0.73967195 0.73878526 0.73683428 0.7373662  0.73736635\n",
      " 0.73913972 0.73878511 0.73949433 0.73914003 0.73984941 0.73913987\n",
      " 0.73701174 0.73754397 0.73772081        nan        nan        nan\n",
      "        nan        nan        nan        nan        nan        nan\n",
      " 0.73913956 0.73913956 0.73967163 0.73896273 0.73967195 0.7386078\n",
      " 0.73789827 0.73896241 0.73807604 0.73878495 0.73913956 0.7396721\n",
      " 0.73896273 0.73914003 0.73913987 0.7375435  0.7375435  0.73772096\n",
      "        nan        nan        nan        nan        nan        nan\n",
      "        nan        nan        nan 0.73949417 0.73896225 0.73931702\n",
      " 0.73967195 0.73914003 0.7386078  0.73807589 0.73807589 0.73754397\n",
      " 0.73878495 0.73896241 0.73967179 0.73984941 0.7396721  0.73772128\n",
      " 0.73718889 0.73772143 0.73736667        nan        nan        nan\n",
      "        nan        nan        nan        nan        nan        nan\n",
      " 0.73931686 0.73896225 0.7386078  0.73896273 0.73967195 0.74002656\n",
      " 0.73701159 0.73878511 0.73896257 0.73896225 0.73931702 0.73949433\n",
      " 0.73914003 0.7394948  0.73843034 0.7386078  0.73754397 0.73807589\n",
      "        nan        nan        nan        nan        nan        nan\n",
      "        nan        nan        nan 0.73878495 0.73878495 0.73984894\n",
      " 0.73949464 0.73984941 0.73878526 0.73825319 0.73665713 0.73825335\n",
      " 0.73843034 0.73931702 0.73967163 0.7394948  0.74002656 0.73896241\n",
      " 0.73754397 0.73754397 0.73843034        nan        nan        nan\n",
      "        nan        nan        nan        nan        nan        nan\n",
      " 0.73913877 0.73878416 0.73701033 0.73931702 0.7391394  0.73860733\n",
      " 0.73541442 0.73842892 0.73807573 0.73239662 0.73807557 0.73825209\n",
      " 0.73967147 0.73754303 0.73754366 0.73984768 0.73754334 0.73736635\n",
      "        nan        nan        nan        nan        nan        nan\n",
      "        nan        nan        nan 0.73913956 0.73896225 0.73896241\n",
      " 0.73914019 0.73931734 0.73949433 0.73807589 0.73789858 0.73718889\n",
      " 0.73878495 0.73931686 0.73949448 0.73914003 0.7394948  0.73878511\n",
      " 0.73772081 0.73896241 0.73754366        nan        nan        nan\n",
      "        nan        nan        nan        nan        nan        nan\n",
      " 0.73878511 0.73931686 0.73913956 0.7394948  0.73984957 0.73843065\n",
      " 0.73772081 0.73772128 0.7375435  0.73896225 0.73878495 0.73984909\n",
      " 0.73931734 0.73949464 0.73931686 0.73789858 0.7375435  0.73772081\n",
      "        nan        nan        nan        nan        nan        nan\n",
      "        nan        nan        nan 0.73896241 0.73896225 0.73931702\n",
      " 0.7394948  0.74002671 0.73896241 0.7373662  0.73736635 0.73825319\n",
      " 0.7384305  0.73967163 0.73913972 0.73949464 0.73914019 0.7384305\n",
      " 0.7384305  0.73718936 0.7373662         nan        nan        nan\n",
      "        nan        nan        nan        nan        nan        nan\n",
      " 0.73878495 0.73896241 0.73931702 0.73967195 0.73967179 0.73843065\n",
      " 0.73807589 0.73807542 0.73754334 0.73860764 0.73878495 0.73896241\n",
      " 0.73931734 0.73984925 0.73896257 0.73860733 0.73807589 0.73789858]\n",
      "  warnings.warn(\n"
     ]
    }
   ],
   "source": [
    "from sklearn.model_selection import GridSearchCV\n",
    "\n",
    "# Inisialisasi model Decision Tree\n",
    "decision_tree = DecisionTreeClassifier()\n",
    "\n",
    "# Daftar hyperparameter yang akan diuji\n",
    "param_grid = {\n",
    "    'criterion': ['gini', 'entropy'],\n",
    "    'max_depth': [None, 10, 20, 30, 40, 50],\n",
    "    'min_samples_split': [2, 5, 10],\n",
    "    'min_samples_leaf': [1, 2, 4],\n",
    "    'max_features': ['auto', 'sqrt', 'log2']\n",
    "}\n",
    "\n",
    "# Inisialisasi Grid Search dengan model, parameter grid, dan metrik evaluasi\n",
    "grid_search = GridSearchCV(decision_tree, param_grid, cv=5, scoring='accuracy')\n",
    "\n",
    "# Melakukan pencarian hyperparameter terbaik\n",
    "grid_search.fit(X_train, y_train)\n",
    "# Menampilkan hyperparameter terbaik\n",
    "print(\"Hyperparameter terbaik:\", grid_search.best_params_)\n",
    "\n",
    "# Evaluasi model terbaik pada data uji\n",
    "best_model = grid_search.best_estimator_\n",
    "accuracy = best_model.score(X_test, y_test)\n",
    "print(\"Akurasi model terbaik:\", accuracy)\n"
   ]
  },
  {
   "cell_type": "code",
   "execution_count": 55,
   "id": "1719d3cd",
   "metadata": {},
   "outputs": [
    {
     "data": {
      "text/html": [
       "<div>\n",
       "<style scoped>\n",
       "    .dataframe tbody tr th:only-of-type {\n",
       "        vertical-align: middle;\n",
       "    }\n",
       "\n",
       "    .dataframe tbody tr th {\n",
       "        vertical-align: top;\n",
       "    }\n",
       "\n",
       "    .dataframe thead th {\n",
       "        text-align: right;\n",
       "    }\n",
       "</style>\n",
       "<table border=\"1\" class=\"dataframe\">\n",
       "  <thead>\n",
       "    <tr style=\"text-align: right;\">\n",
       "      <th></th>\n",
       "      <th>umur</th>\n",
       "      <th>gender</th>\n",
       "      <th>periode_transaksi</th>\n",
       "    </tr>\n",
       "  </thead>\n",
       "  <tbody>\n",
       "    <tr>\n",
       "      <th>0</th>\n",
       "      <td>62</td>\n",
       "      <td>1</td>\n",
       "      <td>2</td>\n",
       "    </tr>\n",
       "    <tr>\n",
       "      <th>1</th>\n",
       "      <td>4</td>\n",
       "      <td>1</td>\n",
       "      <td>2</td>\n",
       "    </tr>\n",
       "    <tr>\n",
       "      <th>3</th>\n",
       "      <td>80</td>\n",
       "      <td>0</td>\n",
       "      <td>2</td>\n",
       "    </tr>\n",
       "    <tr>\n",
       "      <th>4</th>\n",
       "      <td>62</td>\n",
       "      <td>1</td>\n",
       "      <td>2</td>\n",
       "    </tr>\n",
       "    <tr>\n",
       "      <th>5</th>\n",
       "      <td>80</td>\n",
       "      <td>0</td>\n",
       "      <td>2</td>\n",
       "    </tr>\n",
       "    <tr>\n",
       "      <th>...</th>\n",
       "      <td>...</td>\n",
       "      <td>...</td>\n",
       "      <td>...</td>\n",
       "    </tr>\n",
       "    <tr>\n",
       "      <th>8147</th>\n",
       "      <td>69</td>\n",
       "      <td>0</td>\n",
       "      <td>0</td>\n",
       "    </tr>\n",
       "    <tr>\n",
       "      <th>8148</th>\n",
       "      <td>69</td>\n",
       "      <td>0</td>\n",
       "      <td>0</td>\n",
       "    </tr>\n",
       "    <tr>\n",
       "      <th>8150</th>\n",
       "      <td>69</td>\n",
       "      <td>0</td>\n",
       "      <td>0</td>\n",
       "    </tr>\n",
       "    <tr>\n",
       "      <th>8151</th>\n",
       "      <td>69</td>\n",
       "      <td>0</td>\n",
       "      <td>0</td>\n",
       "    </tr>\n",
       "    <tr>\n",
       "      <th>8152</th>\n",
       "      <td>69</td>\n",
       "      <td>0</td>\n",
       "      <td>2</td>\n",
       "    </tr>\n",
       "  </tbody>\n",
       "</table>\n",
       "<p>7049 rows × 3 columns</p>\n",
       "</div>"
      ],
      "text/plain": [
       "      umur  gender  periode_transaksi\n",
       "0       62       1                  2\n",
       "1        4       1                  2\n",
       "3       80       0                  2\n",
       "4       62       1                  2\n",
       "5       80       0                  2\n",
       "...    ...     ...                ...\n",
       "8147    69       0                  0\n",
       "8148    69       0                  0\n",
       "8150    69       0                  0\n",
       "8151    69       0                  0\n",
       "8152    69       0                  2\n",
       "\n",
       "[7049 rows x 3 columns]"
      ]
     },
     "execution_count": 55,
     "metadata": {},
     "output_type": "execute_result"
    }
   ],
   "source": [
    "X"
   ]
  },
  {
   "cell_type": "markdown",
   "id": "ecb4b0bb",
   "metadata": {},
   "source": [
    "### Percobaan Scaling Umur"
   ]
  },
  {
   "cell_type": "code",
   "execution_count": 57,
   "id": "2a556aa2",
   "metadata": {},
   "outputs": [
    {
     "data": {
      "text/html": [
       "<div>\n",
       "<style scoped>\n",
       "    .dataframe tbody tr th:only-of-type {\n",
       "        vertical-align: middle;\n",
       "    }\n",
       "\n",
       "    .dataframe tbody tr th {\n",
       "        vertical-align: top;\n",
       "    }\n",
       "\n",
       "    .dataframe thead th {\n",
       "        text-align: right;\n",
       "    }\n",
       "</style>\n",
       "<table border=\"1\" class=\"dataframe\">\n",
       "  <thead>\n",
       "    <tr style=\"text-align: right;\">\n",
       "      <th></th>\n",
       "      <th>umur</th>\n",
       "      <th>gender</th>\n",
       "      <th>periode_transaksi</th>\n",
       "    </tr>\n",
       "  </thead>\n",
       "  <tbody>\n",
       "    <tr>\n",
       "      <th>0</th>\n",
       "      <td>2.629695</td>\n",
       "      <td>1</td>\n",
       "      <td>2</td>\n",
       "    </tr>\n",
       "    <tr>\n",
       "      <th>1</th>\n",
       "      <td>-3.914921</td>\n",
       "      <td>1</td>\n",
       "      <td>2</td>\n",
       "    </tr>\n",
       "    <tr>\n",
       "      <th>3</th>\n",
       "      <td>4.660783</td>\n",
       "      <td>0</td>\n",
       "      <td>2</td>\n",
       "    </tr>\n",
       "    <tr>\n",
       "      <th>4</th>\n",
       "      <td>2.629695</td>\n",
       "      <td>1</td>\n",
       "      <td>2</td>\n",
       "    </tr>\n",
       "    <tr>\n",
       "      <th>5</th>\n",
       "      <td>4.660783</td>\n",
       "      <td>0</td>\n",
       "      <td>2</td>\n",
       "    </tr>\n",
       "    <tr>\n",
       "      <th>...</th>\n",
       "      <td>...</td>\n",
       "      <td>...</td>\n",
       "      <td>...</td>\n",
       "    </tr>\n",
       "    <tr>\n",
       "      <th>8147</th>\n",
       "      <td>3.419563</td>\n",
       "      <td>0</td>\n",
       "      <td>0</td>\n",
       "    </tr>\n",
       "    <tr>\n",
       "      <th>8148</th>\n",
       "      <td>3.419563</td>\n",
       "      <td>0</td>\n",
       "      <td>0</td>\n",
       "    </tr>\n",
       "    <tr>\n",
       "      <th>8150</th>\n",
       "      <td>3.419563</td>\n",
       "      <td>0</td>\n",
       "      <td>0</td>\n",
       "    </tr>\n",
       "    <tr>\n",
       "      <th>8151</th>\n",
       "      <td>3.419563</td>\n",
       "      <td>0</td>\n",
       "      <td>0</td>\n",
       "    </tr>\n",
       "    <tr>\n",
       "      <th>8152</th>\n",
       "      <td>3.419563</td>\n",
       "      <td>0</td>\n",
       "      <td>2</td>\n",
       "    </tr>\n",
       "  </tbody>\n",
       "</table>\n",
       "<p>7049 rows × 3 columns</p>\n",
       "</div>"
      ],
      "text/plain": [
       "          umur  gender  periode_transaksi\n",
       "0     2.629695       1                  2\n",
       "1    -3.914921       1                  2\n",
       "3     4.660783       0                  2\n",
       "4     2.629695       1                  2\n",
       "5     4.660783       0                  2\n",
       "...        ...     ...                ...\n",
       "8147  3.419563       0                  0\n",
       "8148  3.419563       0                  0\n",
       "8150  3.419563       0                  0\n",
       "8151  3.419563       0                  0\n",
       "8152  3.419563       0                  2\n",
       "\n",
       "[7049 rows x 3 columns]"
      ]
     },
     "execution_count": 57,
     "metadata": {},
     "output_type": "execute_result"
    }
   ],
   "source": [
    "from sklearn.preprocessing import StandardScaler\n",
    "scaler = StandardScaler().fit(df[\"umur\"].to_numpy().reshape(-1, 1))\n",
    "X[\"umur\"] = scaler.transform(X[\"umur\"].to_numpy().reshape(-1, 1))\n",
    "X"
   ]
  },
  {
   "cell_type": "markdown",
   "id": "4b6ab300",
   "metadata": {},
   "source": [
    "### Modelling dan Evaluation lagi"
   ]
  },
  {
   "cell_type": "code",
   "execution_count": 58,
   "id": "8f380ea6",
   "metadata": {},
   "outputs": [
    {
     "data": {
      "text/html": [
       "<style>#sk-container-id-2 {color: black;}#sk-container-id-2 pre{padding: 0;}#sk-container-id-2 div.sk-toggleable {background-color: white;}#sk-container-id-2 label.sk-toggleable__label {cursor: pointer;display: block;width: 100%;margin-bottom: 0;padding: 0.3em;box-sizing: border-box;text-align: center;}#sk-container-id-2 label.sk-toggleable__label-arrow:before {content: \"▸\";float: left;margin-right: 0.25em;color: #696969;}#sk-container-id-2 label.sk-toggleable__label-arrow:hover:before {color: black;}#sk-container-id-2 div.sk-estimator:hover label.sk-toggleable__label-arrow:before {color: black;}#sk-container-id-2 div.sk-toggleable__content {max-height: 0;max-width: 0;overflow: hidden;text-align: left;background-color: #f0f8ff;}#sk-container-id-2 div.sk-toggleable__content pre {margin: 0.2em;color: black;border-radius: 0.25em;background-color: #f0f8ff;}#sk-container-id-2 input.sk-toggleable__control:checked~div.sk-toggleable__content {max-height: 200px;max-width: 100%;overflow: auto;}#sk-container-id-2 input.sk-toggleable__control:checked~label.sk-toggleable__label-arrow:before {content: \"▾\";}#sk-container-id-2 div.sk-estimator input.sk-toggleable__control:checked~label.sk-toggleable__label {background-color: #d4ebff;}#sk-container-id-2 div.sk-label input.sk-toggleable__control:checked~label.sk-toggleable__label {background-color: #d4ebff;}#sk-container-id-2 input.sk-hidden--visually {border: 0;clip: rect(1px 1px 1px 1px);clip: rect(1px, 1px, 1px, 1px);height: 1px;margin: -1px;overflow: hidden;padding: 0;position: absolute;width: 1px;}#sk-container-id-2 div.sk-estimator {font-family: monospace;background-color: #f0f8ff;border: 1px dotted black;border-radius: 0.25em;box-sizing: border-box;margin-bottom: 0.5em;}#sk-container-id-2 div.sk-estimator:hover {background-color: #d4ebff;}#sk-container-id-2 div.sk-parallel-item::after {content: \"\";width: 100%;border-bottom: 1px solid gray;flex-grow: 1;}#sk-container-id-2 div.sk-label:hover label.sk-toggleable__label {background-color: #d4ebff;}#sk-container-id-2 div.sk-serial::before {content: \"\";position: absolute;border-left: 1px solid gray;box-sizing: border-box;top: 0;bottom: 0;left: 50%;z-index: 0;}#sk-container-id-2 div.sk-serial {display: flex;flex-direction: column;align-items: center;background-color: white;padding-right: 0.2em;padding-left: 0.2em;position: relative;}#sk-container-id-2 div.sk-item {position: relative;z-index: 1;}#sk-container-id-2 div.sk-parallel {display: flex;align-items: stretch;justify-content: center;background-color: white;position: relative;}#sk-container-id-2 div.sk-item::before, #sk-container-id-2 div.sk-parallel-item::before {content: \"\";position: absolute;border-left: 1px solid gray;box-sizing: border-box;top: 0;bottom: 0;left: 50%;z-index: -1;}#sk-container-id-2 div.sk-parallel-item {display: flex;flex-direction: column;z-index: 1;position: relative;background-color: white;}#sk-container-id-2 div.sk-parallel-item:first-child::after {align-self: flex-end;width: 50%;}#sk-container-id-2 div.sk-parallel-item:last-child::after {align-self: flex-start;width: 50%;}#sk-container-id-2 div.sk-parallel-item:only-child::after {width: 0;}#sk-container-id-2 div.sk-dashed-wrapped {border: 1px dashed gray;margin: 0 0.4em 0.5em 0.4em;box-sizing: border-box;padding-bottom: 0.4em;background-color: white;}#sk-container-id-2 div.sk-label label {font-family: monospace;font-weight: bold;display: inline-block;line-height: 1.2em;}#sk-container-id-2 div.sk-label-container {text-align: center;}#sk-container-id-2 div.sk-container {/* jupyter's `normalize.less` sets `[hidden] { display: none; }` but bootstrap.min.css set `[hidden] { display: none !important; }` so we also need the `!important` here to be able to override the default hidden behavior on the sphinx rendered scikit-learn.org. See: https://github.com/scikit-learn/scikit-learn/issues/21755 */display: inline-block !important;position: relative;}#sk-container-id-2 div.sk-text-repr-fallback {display: none;}</style><div id=\"sk-container-id-2\" class=\"sk-top-container\"><div class=\"sk-text-repr-fallback\"><pre>DecisionTreeClassifier(criterion=&#x27;entropy&#x27;)</pre><b>In a Jupyter environment, please rerun this cell to show the HTML representation or trust the notebook. <br />On GitHub, the HTML representation is unable to render, please try loading this page with nbviewer.org.</b></div><div class=\"sk-container\" hidden><div class=\"sk-item\"><div class=\"sk-estimator sk-toggleable\"><input class=\"sk-toggleable__control sk-hidden--visually\" id=\"sk-estimator-id-2\" type=\"checkbox\" checked><label for=\"sk-estimator-id-2\" class=\"sk-toggleable__label sk-toggleable__label-arrow\">DecisionTreeClassifier</label><div class=\"sk-toggleable__content\"><pre>DecisionTreeClassifier(criterion=&#x27;entropy&#x27;)</pre></div></div></div></div></div>"
      ],
      "text/plain": [
       "DecisionTreeClassifier(criterion='entropy')"
      ]
     },
     "execution_count": 58,
     "metadata": {},
     "output_type": "execute_result"
    }
   ],
   "source": [
    "X_train, X_test, y_train, y_test = train_test_split(X, y, test_size=0.2, random_state=42)\n",
    "model_c45 = DecisionTreeClassifier(criterion='entropy')  # Gunakan 'entropy' atau 'gini' sebagai kriteria pemisahan\n",
    "model_c45.fit(X_train, y_train)"
   ]
  },
  {
   "cell_type": "code",
   "execution_count": 59,
   "id": "b1498446",
   "metadata": {},
   "outputs": [
    {
     "name": "stdout",
     "output_type": "stream",
     "text": [
      "Entropy for umur: 4.828364839994538\n",
      "Entropy for gender: 0.8118958746170821\n",
      "Entropy for periode_transaksi: 1.1924728031324334\n",
      "Entropy for kategori_nominal: 0.863682530934168\n"
     ]
    }
   ],
   "source": [
    "# Hitung entropy untuk setiap variabel kategorikal\n",
    "columns_to_analyze = ['umur', 'gender', 'periode_transaksi', 'kategori_nominal']\n",
    "\n",
    "for column in columns_to_analyze:\n",
    "    entropy = calculate_entropy(df[column])\n",
    "    print(f\"Entropy for {column}: {entropy}\")"
   ]
  },
  {
   "cell_type": "code",
   "execution_count": 60,
   "id": "6717ca57",
   "metadata": {},
   "outputs": [
    {
     "name": "stdout",
     "output_type": "stream",
     "text": [
      "Akurasi: 0.7624113475177305\n",
      "Precision: 0.6410256410256411\n",
      "Recall: 0.2638522427440633\n",
      "Confusion Matrix:\n",
      "[[975  56]\n",
      " [279 100]]\n"
     ]
    }
   ],
   "source": [
    "y_pred = model_c45.predict(X_test)\n",
    "accuracy = accuracy_score(y_test, y_pred)\n",
    "precision = precision_score(y_test, y_pred)\n",
    "recall = recall_score(y_test, y_pred)\n",
    "conf_matrix = confusion_matrix(y_test, y_pred)\n",
    "\n",
    "print(\"Akurasi:\", accuracy)\n",
    "print(\"Precision:\", precision)\n",
    "print(\"Recall:\", recall)\n",
    "print(\"Confusion Matrix:\")\n",
    "print(conf_matrix)"
   ]
  },
  {
   "cell_type": "code",
   "execution_count": 61,
   "id": "978fa2e0",
   "metadata": {},
   "outputs": [
    {
     "data": {
      "text/plain": [
       "<Axes: >"
      ]
     },
     "execution_count": 61,
     "metadata": {},
     "output_type": "execute_result"
    },
    {
     "data": {
      "image/png": "[encoded data removed]",
      "text/plain": [
       "<Figure size 640x480 with 2 Axes>"
      ]
     },
     "metadata": {},
     "output_type": "display_data"
    }
   ],
   "source": [
    "sns.heatmap(confusion_matrix(y_test, y_pred), annot=True, cmap=\"plasma\", linewidths=.2, linecolor=\"white\")"
   ]
  },
  {
   "cell_type": "code",
   "execution_count": 62,
   "id": "ff0e17e4",
   "metadata": {},
   "outputs": [
    {
     "name": "stdout",
     "output_type": "stream",
     "text": [
      "              precision    recall  f1-score   support\n",
      "\n",
      "           0       0.78      0.95      0.85      1031\n",
      "           1       0.64      0.26      0.37       379\n",
      "\n",
      "    accuracy                           0.76      1410\n",
      "   macro avg       0.71      0.60      0.61      1410\n",
      "weighted avg       0.74      0.76      0.72      1410\n",
      "\n"
     ]
    }
   ],
   "source": [
    "from sklearn.metrics import classification_report\n",
    "\n",
    "print(classification_report(y_test, y_pred))"
   ]
  },
  {
   "cell_type": "code",
   "execution_count": 65,
   "id": "63ab41de",
   "metadata": {},
   "outputs": [
    {
     "name": "stdout",
     "output_type": "stream",
     "text": [
      "              precision    recall  f1-score   support\n",
      "\n",
      "           0       0.26      0.76      0.39       353\n",
      "           1       0.78      0.28      0.41      1057\n",
      "\n",
      "    accuracy                           0.40      1410\n",
      "   macro avg       0.52      0.52      0.40      1410\n",
      "weighted avg       0.65      0.40      0.41      1410\n",
      "\n"
     ]
    }
   ],
   "source": [
    "model = grid_search.best_estimator_\n",
    "y_pred = model.predict(X_test)\n",
    "print(classification_report(y_pred, y_test))"
   ]
  },
  {
   "cell_type": "code",
   "execution_count": 66,
   "id": "c7163512",
   "metadata": {},
   "outputs": [],
   "source": [
    "X[\"umur\"] = scaler.inverse_transform(X[\"umur\"].to_numpy().reshape(-1, 1))\n",
    "\n",
    "X_train, X_test, y_train, y_test = train_test_split(X, y, test_size=0.2, random_state=42)"
   ]
  },
  {
   "cell_type": "code",
   "execution_count": 67,
   "id": "70f6322a",
   "metadata": {},
   "outputs": [
    {
     "data": {
      "text/html": [
       "<style>#sk-container-id-3 {color: black;}#sk-container-id-3 pre{padding: 0;}#sk-container-id-3 div.sk-toggleable {background-color: white;}#sk-container-id-3 label.sk-toggleable__label {cursor: pointer;display: block;width: 100%;margin-bottom: 0;padding: 0.3em;box-sizing: border-box;text-align: center;}#sk-container-id-3 label.sk-toggleable__label-arrow:before {content: \"▸\";float: left;margin-right: 0.25em;color: #696969;}#sk-container-id-3 label.sk-toggleable__label-arrow:hover:before {color: black;}#sk-container-id-3 div.sk-estimator:hover label.sk-toggleable__label-arrow:before {color: black;}#sk-container-id-3 div.sk-toggleable__content {max-height: 0;max-width: 0;overflow: hidden;text-align: left;background-color: #f0f8ff;}#sk-container-id-3 div.sk-toggleable__content pre {margin: 0.2em;color: black;border-radius: 0.25em;background-color: #f0f8ff;}#sk-container-id-3 input.sk-toggleable__control:checked~div.sk-toggleable__content {max-height: 200px;max-width: 100%;overflow: auto;}#sk-container-id-3 input.sk-toggleable__control:checked~label.sk-toggleable__label-arrow:before {content: \"▾\";}#sk-container-id-3 div.sk-estimator input.sk-toggleable__control:checked~label.sk-toggleable__label {background-color: #d4ebff;}#sk-container-id-3 div.sk-label input.sk-toggleable__control:checked~label.sk-toggleable__label {background-color: #d4ebff;}#sk-container-id-3 input.sk-hidden--visually {border: 0;clip: rect(1px 1px 1px 1px);clip: rect(1px, 1px, 1px, 1px);height: 1px;margin: -1px;overflow: hidden;padding: 0;position: absolute;width: 1px;}#sk-container-id-3 div.sk-estimator {font-family: monospace;background-color: #f0f8ff;border: 1px dotted black;border-radius: 0.25em;box-sizing: border-box;margin-bottom: 0.5em;}#sk-container-id-3 div.sk-estimator:hover {background-color: #d4ebff;}#sk-container-id-3 div.sk-parallel-item::after {content: \"\";width: 100%;border-bottom: 1px solid gray;flex-grow: 1;}#sk-container-id-3 div.sk-label:hover label.sk-toggleable__label {background-color: #d4ebff;}#sk-container-id-3 div.sk-serial::before {content: \"\";position: absolute;border-left: 1px solid gray;box-sizing: border-box;top: 0;bottom: 0;left: 50%;z-index: 0;}#sk-container-id-3 div.sk-serial {display: flex;flex-direction: column;align-items: center;background-color: white;padding-right: 0.2em;padding-left: 0.2em;position: relative;}#sk-container-id-3 div.sk-item {position: relative;z-index: 1;}#sk-container-id-3 div.sk-parallel {display: flex;align-items: stretch;justify-content: center;background-color: white;position: relative;}#sk-container-id-3 div.sk-item::before, #sk-container-id-3 div.sk-parallel-item::before {content: \"\";position: absolute;border-left: 1px solid gray;box-sizing: border-box;top: 0;bottom: 0;left: 50%;z-index: -1;}#sk-container-id-3 div.sk-parallel-item {display: flex;flex-direction: column;z-index: 1;position: relative;background-color: white;}#sk-container-id-3 div.sk-parallel-item:first-child::after {align-self: flex-end;width: 50%;}#sk-container-id-3 div.sk-parallel-item:last-child::after {align-self: flex-start;width: 50%;}#sk-container-id-3 div.sk-parallel-item:only-child::after {width: 0;}#sk-container-id-3 div.sk-dashed-wrapped {border: 1px dashed gray;margin: 0 0.4em 0.5em 0.4em;box-sizing: border-box;padding-bottom: 0.4em;background-color: white;}#sk-container-id-3 div.sk-label label {font-family: monospace;font-weight: bold;display: inline-block;line-height: 1.2em;}#sk-container-id-3 div.sk-label-container {text-align: center;}#sk-container-id-3 div.sk-container {/* jupyter's `normalize.less` sets `[hidden] { display: none; }` but bootstrap.min.css set `[hidden] { display: none !important; }` so we also need the `!important` here to be able to override the default hidden behavior on the sphinx rendered scikit-learn.org. See: https://github.com/scikit-learn/scikit-learn/issues/21755 */display: inline-block !important;position: relative;}#sk-container-id-3 div.sk-text-repr-fallback {display: none;}</style><div id=\"sk-container-id-3\" class=\"sk-top-container\"><div class=\"sk-text-repr-fallback\"><pre>DecisionTreeClassifier(criterion=&#x27;entropy&#x27;)</pre><b>In a Jupyter environment, please rerun this cell to show the HTML representation or trust the notebook. <br />On GitHub, the HTML representation is unable to render, please try loading this page with nbviewer.org.</b></div><div class=\"sk-container\" hidden><div class=\"sk-item\"><div class=\"sk-estimator sk-toggleable\"><input class=\"sk-toggleable__control sk-hidden--visually\" id=\"sk-estimator-id-3\" type=\"checkbox\" checked><label for=\"sk-estimator-id-3\" class=\"sk-toggleable__label sk-toggleable__label-arrow\">DecisionTreeClassifier</label><div class=\"sk-toggleable__content\"><pre>DecisionTreeClassifier(criterion=&#x27;entropy&#x27;)</pre></div></div></div></div></div>"
      ],
      "text/plain": [
       "DecisionTreeClassifier(criterion='entropy')"
      ]
     },
     "execution_count": 67,
     "metadata": {},
     "output_type": "execute_result"
    }
   ],
   "source": [
    "model_c45.fit(X_train, y_train)"
   ]
  },
  {
   "cell_type": "code",
   "execution_count": 68,
   "id": "b577cbb4",
   "metadata": {},
   "outputs": [
    {
     "name": "stdout",
     "output_type": "stream",
     "text": [
      "              precision    recall  f1-score   support\n",
      "\n",
      "           0       0.78      0.95      0.85      1031\n",
      "           1       0.64      0.26      0.37       379\n",
      "\n",
      "    accuracy                           0.76      1410\n",
      "   macro avg       0.71      0.60      0.61      1410\n",
      "weighted avg       0.74      0.76      0.72      1410\n",
      "\n"
     ]
    }
   ],
   "source": [
    "y_pred = model_c45.predict(X_test)\n",
    "print(classification_report(y_test, y_pred))"
   ]
  },
  {
   "cell_type": "code",
   "execution_count": 69,
   "id": "ba02df6f",
   "metadata": {
    "scrolled": true
   },
   "outputs": [
    {
     "data": {
      "text/plain": [
       "<Axes: >"
      ]
     },
     "execution_count": 69,
     "metadata": {},
     "output_type": "execute_result"
    },
    {
     "data": {
      "image/png": "[encoded data removed]",
      "text/plain": [
       "<Figure size 640x480 with 2 Axes>"
      ]
     },
     "metadata": {},
     "output_type": "display_data"
    }
   ],
   "source": [
    "sns.heatmap(data=confusion_matrix(y_test, y_pred), annot=True, cmap=\"plasma\", linewidths=.2, linecolor=\"white\")\n"
   ]
  },
  {
   "cell_type": "code",
   "execution_count": 72,
   "id": "7eba464e",
   "metadata": {},
   "outputs": [],
   "source": [
    "# Simpan model ke dalam file\n",
    "with open('model_prediction_fundraising.pkl', 'wb') as file:\n",
    "    pickle.dump(model_c45, file)\n",
    "    \n",
    "# Memuat model dari file    \n",
    "with open('model_prediction_fundraising.pkl', 'rb') as file:\n",
    "    loaded_model = pickle.load(file)\n"
   ]
  }
 ],
 "metadata": {
  "kernelspec": {
   "display_name": "Python 3 (ipykernel)",
   "language": "python",
   "name": "python3"
  },
  "language_info": {
   "codemirror_mode": {
    "name": "ipython",
    "version": 3
   },
   "file_extension": ".py",
   "mimetype": "text/x-python",
   "name": "python",
   "nbconvert_exporter": "python",
   "pygments_lexer": "ipython3",
   "version": "3.10.11"
  }
 },
 "nbformat": 4,
 "nbformat_minor": 5
}
